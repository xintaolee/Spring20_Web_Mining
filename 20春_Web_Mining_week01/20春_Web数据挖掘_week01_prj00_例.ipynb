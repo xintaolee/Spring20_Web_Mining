{
 "cells": [
  {
   "cell_type": "markdown",
   "metadata": {
    "slideshow": {
     "slide_type": "slide"
    }
   },
   "source": [
    "# 20春_Web数据挖掘\n",
    "*  本周主要内容：总观使用\n",
    "    * **requests-html** 丶\n",
    "    * pd.read_html 丶及\n",
    "    * requests + lxml\n",
    "*  20春_Web数据挖掘_week01\n",
    "*  电子讲义设计者：廖汉腾, 许智超\n",
    "\n",
    "-----\n",
    "week01_prj00_例 使用  requests-html "
   ]
  },
  {
   "cell_type": "markdown",
   "metadata": {
    "slideshow": {
     "slide_type": "fragment"
    }
   },
   "source": [
    "#  项目0.A cnblogs 新闻\n",
    "\n",
    "抄用\n",
    "\n",
    "* 来源 [最新的爬虫工具requests-html](https://www.cnblogs.com/fnng/p/8948015.html)\n",
    "\n",
    "最人性化的模块\n",
    "\n",
    "* 文档 [requests-html](https://requests-html.kennethreitz.org/)\n",
    "\n",
    "## HTML之CSS Selector\n",
    "\n",
    "可以用[CSS selector](https://www.runoob.com/css/css-id-class.html)\n",
    "\n",
    "试第一个和另一个，看看有什麽规律 (侦探活)\n",
    "Chrome Console下使用Javascript\n",
    "\n",
    "``` $(\"放这\") ```\n",
    "\n",
    "-----"
   ]
  },
  {
   "cell_type": "markdown",
   "metadata": {},
   "source": [
    "#### 操作之前记得先按照request_html模块\n",
    "安装命令： pip install requests-html\n",
    "它是一个用于发送HTTP请求的测试"
   ]
  },
  {
   "cell_type": "code",
   "execution_count": 8,
   "metadata": {
    "scrolled": true,
    "slideshow": {
     "slide_type": "subslide"
    }
   },
   "outputs": [
    {
     "name": "stdout",
     "output_type": "stream",
     "text": [
      "标题: 僵尸网络盯上微软，黑客用MSSQL数据库挖矿近两年，每天攻击近3000个数据库\n",
      "链接: {'https://news.cnblogs.com/n/659397/'}\n",
      "标题: “液体活检” 新突破！抽血一次可识别50余种癌症，早筛误检率低于1%\n",
      "链接: {'https://news.cnblogs.com/n/659377/'}\n",
      "标题: 一文看懂华为P40系列发布会：最强拍照手机卖到8888元 最贵终端揭晓\n",
      "链接: {'https://news.cnblogs.com/n/659358/'}\n",
      "标题: 闲鱼卖货遭遇买家调包，我这样斗智斗勇追回损失\n",
      "链接: {'https://news.cnblogs.com/n/659331/'}\n",
      "标题: 阿里达摩院研发全新ISP处理器，夜间图像识别精准率提升10%\n",
      "链接: {'https://news.cnblogs.com/n/659318/'}\n",
      "标题: 成立 10 周年的小米 ，为什么是一个奇迹？\n",
      "链接: {'https://news.cnblogs.com/n/659311/'}\n",
      "标题: 被网赌毁掉的年轻人：本想兼职赚钱，结果倾家荡产\n",
      "链接: {'https://news.cnblogs.com/n/659291/'}\n",
      "标题: 做独立开发者两年了，我是这样赚钱的\n",
      "链接: {'https://news.cnblogs.com/n/659256/'}\n",
      "标题: 中国首个胃癌免疫疗法终于来了！\n",
      "链接: {'https://news.cnblogs.com/n/659250/'}\n",
      "标题: 来自语音从业者的一封批评信\n",
      "链接: {'https://news.cnblogs.com/n/659234/'}\n",
      "标题: 瑞幸咖啡：是经营失败，还是欺诈成功？\n",
      "链接: {'https://news.cnblogs.com/n/659189/'}\n",
      "标题: .NET 5.0 Preview 2 发布\n",
      "链接: {'https://news.cnblogs.com/n/659175/'}\n",
      "标题: 你为什么退出 B 站？B 站：因为我要变强\n",
      "链接: {'https://news.cnblogs.com/n/659156/'}\n",
      "标题: 真“碳基电路”：把细胞变成计算机？华人研究登Science\n",
      "链接: {'https://news.cnblogs.com/n/659126/'}\n",
      "标题: Zoom爆重大安全漏洞：数万视频被公开围观 CEO考虑开源\n",
      "链接: {'https://news.cnblogs.com/n/659123/'}\n",
      "标题: 星巴克的黑粉是瑞幸的护盘侠\n",
      "链接: {'https://news.cnblogs.com/n/659117/'}\n",
      "标题: 云撸猫从未如此真实，谷歌3D动物走红\n",
      "链接: {'https://news.cnblogs.com/n/659061/'}\n",
      "标题: 阿里云打破AI计算纪录，包揽权威竞赛四项第一\n",
      "链接: {'https://news.cnblogs.com/n/659040/'}\n"
     ]
    }
   ],
   "source": [
    "# prj-0-A\n",
    "\n",
    "# 00: 使用 \n",
    "from requests_html import HTMLSession #导入request_html模块\n",
    "\n",
    "# 01: 使用session 猜是給定url ()\n",
    "session = HTMLSession()\n",
    "r = session.get(\"https://news.cnblogs.com/n/recommend\")# 获取方法是get\n",
    "\n",
    "# 02: 使用.find ???? (CSS selector; r.html.find)\n",
    "# 通过CSS找到新闻标签\n",
    "news = r.html.find('h2.news_entry > a')\n",
    "\n",
    "# 03: 结果輸出\n",
    "for new in news:\n",
    "    print(\"标题:\", new.text)  # 获得新闻标题\n",
    "    print(\"链接:\", new.absolute_links)  # 获得新闻链接"
   ]
  },
  {
   "cell_type": "markdown",
   "metadata": {},
   "source": [
    "### 获取页面上的所有链接。\n",
    "可用：\n",
    "\n",
    "all_links =  r.html.links\n",
    "print(all_links)\n",
    "\n",
    "### 获取页面上的所有链接，以绝对路径的方式。\n",
    "可用：\n",
    "\n",
    "all_absolute_links = r.html.absolute_links\n",
    "print(all_absolute_links)\n"
   ]
  },
  {
   "cell_type": "markdown",
   "metadata": {},
   "source": [
    "### 换个网站试一试"
   ]
  },
  {
   "cell_type": "code",
   "execution_count": 9,
   "metadata": {},
   "outputs": [
    {
     "name": "stdout",
     "output_type": "stream",
     "text": [
      "“司徒正美”不幸离世，刚入职OPPO，著有《JavaScript框架设计》\n",
      "{'https://news.cnblogs.com/n/658878/'}\n",
      "程序员的一次失误，在 45 分钟里搞垮了一家上市公司\n",
      "{'https://news.cnblogs.com/n/658834/'}\n",
      "做独立开发者两年了，我是这样赚钱的\n",
      "{'https://news.cnblogs.com/n/659256/'}\n",
      "盘前跌去80%盘后五次熔断！瑞幸惊天大骗局曝光：COO内部造假22亿\n",
      "{'https://news.cnblogs.com/n/658969/'}\n",
      "瑞幸咖啡：是经营失败，还是欺诈成功？\n",
      "{'https://news.cnblogs.com/n/659189/'}\n",
      "你为什么退出 B 站？B 站：因为我要变强\n",
      "{'https://news.cnblogs.com/n/659156/'}\n",
      "闲鱼卖货遭遇买家调包，我这样斗智斗勇追回损失\n",
      "{'https://news.cnblogs.com/n/659331/'}\n",
      "淘宝旗舰店竟有“假”的，1000万人被骗是怎么回事？\n",
      "{'https://news.cnblogs.com/n/658930/'}\n",
      ".NET 5.0 Preview 2 发布\n",
      "{'https://news.cnblogs.com/n/659175/'}\n",
      "一文看懂华为P40系列发布会：最强拍照手机卖到8888元 最贵终端揭晓\n",
      "{'https://news.cnblogs.com/n/659358/'}\n",
      "俞敏洪谈瑞幸造假22亿：破坏中国企业在世界人民心中形象\n",
      "{'https://news.cnblogs.com/n/659140/'}\n",
      "全球首个翻译引擎进化归来 “细节狂魔”搞定方言\n",
      "{'https://news.cnblogs.com/n/658933/'}\n",
      "成立 10 周年的小米 ，为什么是一个奇迹？\n",
      "{'https://news.cnblogs.com/n/659311/'}\n",
      "Zoom爆重大安全漏洞：数万视频被公开围观 CEO考虑开源\n",
      "{'https://news.cnblogs.com/n/659123/'}\n",
      "云撸猫从未如此真实，谷歌3D动物走红\n",
      "{'https://news.cnblogs.com/n/659061/'}\n",
      "1亿度运行近10秒 中国人造太阳核聚变技术取得重大突破\n",
      "{'https://news.cnblogs.com/n/659008/'}\n",
      "被网赌毁掉的年轻人：本想兼职赚钱，结果倾家荡产\n",
      "{'https://news.cnblogs.com/n/659291/'}\n",
      "僵尸网络盯上微软，黑客用MSSQL数据库挖矿近两年，每天攻击近3000个数据库\n",
      "{'https://news.cnblogs.com/n/659397/'}\n"
     ]
    }
   ],
   "source": [
    "from requests_html import HTMLSession\n",
    "\n",
    "session = HTMLSession()\n",
    "\n",
    "r = session.get(\"https://news.cnblogs.com/n/digg?type=month\")\n",
    "\n",
    "# 通过CSS找到新闻标签\n",
    "news = r.html.find('h2.news_entry > a')\n",
    "\n",
    "for new in news:\n",
    "    print(new.text)  # 获得新闻标题\n",
    "    print(new.absolute_links)  # 获得新闻链接"
   ]
  },
  {
   "cell_type": "markdown",
   "metadata": {
    "slideshow": {
     "slide_type": "slide"
    }
   },
   "source": [
    "## HTML 之 xpath\n",
    "\n",
    "也可以用[xpath](https://www.runoob.com/xpath/xpath-tutorial.html)\n",
    "\n",
    "试第一个和另一个，看看有什麽规律 (侦探活)\n",
    "Chrome Console下使用Javascript\n",
    "\n",
    "```python \n",
    "$x(\"放这\")\n",
    "\n",
    "```\n",
    "-----\n",
    "\n",
    "\n",
    "# 项目0.B liepin 工作"
   ]
  },
  {
   "cell_type": "markdown",
   "metadata": {},
   "source": [
    "### 先了解xpath\n",
    "在 XPath 中，有七种类型的节点：元素、属性、文本、命名空间、处理指令、注释以及文档（根）节点。XML 文档是被作为节点树来对待的。\n",
    "\n",
    "\n",
    "\n",
    "xml.xpath(“bookstore”) 表示选取 bookstore 元素的所有子节点\n",
    "\n",
    "xml.xpath(“/bookstore”) 表示选取根元素 bookstore。\n",
    "\n",
    "xml.xpath(“bookstore/book”) 选取属于 bookstore 的子元素的所有 book 元素。\n",
    "\n",
    "xml.xpath(“//book”) 选取所有 book 子元素，而不管它们在文档中的位置。\n",
    "\n",
    "xml.xpath(“bookstore//book”) 选择属于 bookstore 元素的后代的所有 book 元素，而不管它们位于 bookstore 之下的什么位置。\n",
    "\n",
    "xml.xpath(“//@lang”) 选取名为 lang 的所有属性。\n",
    "\n",
    "\n",
    "[原文链接](https://blog.csdn.net/u013332124/article/details/80621638)"
   ]
  },
  {
   "cell_type": "code",
   "execution_count": 10,
   "metadata": {
    "scrolled": true,
    "slideshow": {
     "slide_type": "subslide"
    }
   },
   "outputs": [
    {
     "name": "stdout",
     "output_type": "stream",
     "text": [
      "工作 行政前台+工作稳定+氛围好+帅哥多\n",
      "工作 {'https://www.liepin.com/job/1926261155.shtml'}\n",
      "工作 90帅哥美女团队销售8k\n",
      "工作 {'https://www.liepin.com/job/1923335419.shtml'}\n",
      "工作 90帅哥美女团队销售8k不加班\n",
      "工作 {'https://www.liepin.com/job/1923408409.shtml'}\n",
      "工作 90帅哥美女团队销售8k包吃住\n",
      "工作 {'https://www.liepin.com/job/1923355103.shtml'}\n",
      "工作 气质有潜质的帅哥西服拍摄\n",
      "工作 {'https://www.liepin.com/job/1923662729.shtml'}\n",
      "工作 新房顾问 激情团队 帅哥美女 无责4.5K\n",
      "工作 {'https://www.liepin.com/job/1923751109.shtml'}\n",
      "工作 实习生（一群激情满满的帅哥美女）\n",
      "工作 {'https://www.liepin.com/job/1920487457.shtml'}\n",
      "工作 后端开发工程师\n",
      "工作 {'https://www.liepin.com/job/1927179531.shtml'}\n",
      "工作 新媒体运营经理\n",
      "工作 {'https://www.liepin.com/job/1927178417.shtml'}\n",
      "工作 课程开发（初级）\n",
      "工作 {'https://www.liepin.com/job/1927177845.shtml'}\n",
      "工作 课程开发（高级）\n",
      "工作 {'https://www.liepin.com/job/1927177683.shtml'}\n",
      "工作 Web前端开发工程师\n",
      "工作 {'https://www.liepin.com/job/1926806687.shtml'}\n",
      "工作 新媒体运营经理\n",
      "工作 {'https://www.liepin.com/job/1926572267.shtml'}\n",
      "工作 发卡专员\n",
      "工作 {'https://www.liepin.com/job/1927328797.shtml'}\n",
      "工作 运营总监\n",
      "工作 {'https://www.liepin.com/job/1927326999.shtml'}\n",
      "工作 日语业务员\n",
      "工作 {'https://www.liepin.com/job/1927324271.shtml'}\n",
      "工作 电话销售\n",
      "工作 {'https://www.liepin.com/job/1927317347.shtml'}\n",
      "工作 大客户销售经理\n",
      "工作 {'https://www.liepin.com/job/1927317185.shtml'}\n",
      "工作 大客户销售经理\n",
      "工作 {'https://www.liepin.com/job/1927317183.shtml'}\n",
      "工作 大客户销售经理\n",
      "工作 {'https://www.liepin.com/job/1927317055.shtml'}\n",
      "工作 大客户销售经理\n",
      "工作 {'https://www.liepin.com/job/1927317053.shtml'}\n",
      "工作 大客户销售经理\n",
      "工作 {'https://www.liepin.com/job/1927317051.shtml'}\n",
      "工作 大客户销售经理\n",
      "工作 {'https://www.liepin.com/job/1927316911.shtml'}\n",
      "工作 大客户销售经理\n",
      "工作 {'https://www.liepin.com/job/1927316909.shtml'}\n",
      "工作 大客户销售经理\n",
      "工作 {'https://www.liepin.com/job/1927316907.shtml'}\n",
      "工作 大客户销售经理\n",
      "工作 {'https://www.liepin.com/job/1927316799.shtml'}\n",
      "工作 大客户销售经理\n",
      "工作 {'https://www.liepin.com/job/1927316797.shtml'}\n",
      "工作 大客户销售经理\n",
      "工作 {'https://www.liepin.com/job/1927316757.shtml'}\n",
      "工作 大客户销售经理\n",
      "工作 {'https://www.liepin.com/job/1927316755.shtml'}\n",
      "工作 大客户销售经理\n",
      "工作 {'https://www.liepin.com/job/1927316753.shtml'}\n",
      "工作 大客户销售经理\n",
      "工作 {'https://www.liepin.com/job/1927316697.shtml'}\n",
      "工作 大客户销售经理\n",
      "工作 {'https://www.liepin.com/job/1927316695.shtml'}\n",
      "工作 电话客服\n",
      "工作 {'https://www.liepin.com/job/1927306443.shtml'}\n",
      "工作 产品经理\n",
      "工作 {'https://www.liepin.com/job/1927299931.shtml'}\n",
      "工作 网络销售顾问\n",
      "工作 {'https://www.liepin.com/job/1927290129.shtml'}\n",
      "工作 供应商管理主管\n",
      "工作 {'https://www.liepin.com/job/1927288529.shtml'}\n",
      "工作 视频剪辑\n",
      "工作 {'https://www.liepin.com/job/1927261665.shtml'}\n",
      "工作 战略中心总监\n",
      "工作 {'https://www.liepin.com/job/1927228937.shtml'}\n",
      "工作 品牌文案经理\n",
      "工作 {'https://www.liepin.com/job/1927228899.shtml'}\n",
      "工作 大客户销售经理\n",
      "工作 {'https://www.liepin.com/job/1927228843.shtml'}\n"
     ]
    }
   ],
   "source": [
    "# prj-0-B\n",
    "\n",
    "from requests_html import HTMLSession\n",
    "\n",
    "session = HTMLSession()\n",
    "\n",
    "r = session.get(\"https://www.liepin.com/zhaopin/?key=帅哥\") # key的意思是“关键词”，这个应该大家都懂\n",
    "\n",
    "# 通过xpath找到工作标签\n",
    "news = r.html.xpath('//div[@class=\"job-info\"]/h3/a') # 选取所有 div子元素中h3的a元素，而该元素的命名为class=\"job-info\n",
    "#             以下所有^^   [@attribute]條件  \n",
    "\n",
    "for new in news:\n",
    "    print(\"工作\",new.text)  # 获得工作标题\n",
    "    print(\"工作\",new.absolute_links)  # 获得工作链接"
   ]
  },
  {
   "cell_type": "code",
   "execution_count": 11,
   "metadata": {},
   "outputs": [],
   "source": [
    "### 换个关键词试试"
   ]
  },
  {
   "cell_type": "code",
   "execution_count": 12,
   "metadata": {},
   "outputs": [
    {
     "name": "stdout",
     "output_type": "stream",
     "text": [
      "工作 仓储运营经理（生鲜仓、DC仓）\n",
      "工作 {'https://www.liepin.com/job/1927245939.shtml'}\n",
      "工作 集团副总经理\n",
      "工作 {'https://www.liepin.com/job/1927254319.shtml'}\n",
      "工作 安全经理\n",
      "工作 {'https://www.liepin.com/job/1927230139.shtml'}\n",
      "工作 集团秩序经理(J10253)\n",
      "工作 {'https://www.liepin.com/job/1927211617.shtml'}\n",
      "工作 干部管理经理\n",
      "工作 {'https://www.liepin.com/job/1927228767.shtml'}\n",
      "工作 企划经理\n",
      "工作 {'https://www.liepin.com/job/1927219419.shtml'}\n",
      "工作 法务经理\n",
      "工作 {'https://www.liepin.com/job/1927221947.shtml'}\n",
      "工作 风光资源项目开发经理\n",
      "工作 {'https://www.liepin.com/job/1927332839.shtml'}\n",
      "工作 人力资源经理\n",
      "工作 {'https://www.liepin.com/job/1927330799.shtml'}\n",
      "工作 PCBA销售工程师/PCBA区域销售经理\n",
      "工作 {'https://www.liepin.com/job/1927329499.shtml'}\n",
      "工作 业务副总经理\n",
      "工作 {'https://www.liepin.com/job/1927327087.shtml'}\n",
      "工作 BP经理（政委）\n",
      "工作 {'https://www.liepin.com/job/1927326339.shtml'}\n",
      "工作 业务经理\n",
      "工作 {'https://www.liepin.com/job/1927325353.shtml'}\n",
      "工作 销售经理\n",
      "工作 {'https://www.liepin.com/job/1927325165.shtml'}\n",
      "工作 酒店开发拓展经理\n",
      "工作 {'https://www.liepin.com/job/1927324917.shtml'}\n",
      "工作 物业项目经理\n",
      "工作 {'https://www.liepin.com/job/1927324487.shtml'}\n",
      "工作 副总经理\n",
      "工作 {'https://www.liepin.com/job/1927324255.shtml'}\n",
      "工作 大客户经理\n",
      "工作 {'https://www.liepin.com/job/1927323445.shtml'}\n",
      "工作 筹备中心副总经理\n",
      "工作 {'https://www.liepin.com/job/1927322725.shtml'}\n",
      "工作 筹备中心副总经理\n",
      "工作 {'https://www.liepin.com/job/1927322719.shtml'}\n",
      "工作 信托经理\n",
      "工作 {'https://www.liepin.com/job/1927321867.shtml'}\n",
      "工作 高级销售经理\n",
      "工作 {'https://www.liepin.com/job/1927321321.shtml'}\n",
      "工作 招聘经理\n",
      "工作 {'https://www.liepin.com/job/1927320861.shtml'}\n",
      "工作 核算经理/副经理\n",
      "工作 {'https://www.liepin.com/job/1927319451.shtml'}\n",
      "工作 城市总经理\n",
      "工作 {'https://www.liepin.com/job/1927318575.shtml'}\n",
      "工作 杭州城市总经理\n",
      "工作 {'https://www.liepin.com/job/1927315651.shtml'}\n",
      "工作 R&D Operation Excellence Assistant Manager ; 研发卓越运营助理经理\n",
      "工作 {'https://www.liepin.com/job/1927314723.shtml'}\n",
      "工作 销售经理/大客户经理\n",
      "工作 {'https://www.liepin.com/job/1927314363.shtml'}\n",
      "工作 R&D Manager, QA; 研发经理，质量保证\n",
      "工作 {'https://www.liepin.com/job/1927314351.shtml'}\n",
      "工作 渠道经理（媒介类）\n",
      "工作 {'https://www.liepin.com/job/1927313809.shtml'}\n",
      "工作 销售经理/大客户经理\n",
      "工作 {'https://www.liepin.com/job/1927313749.shtml'}\n",
      "工作 内容产品经理 (MJ001063)\n",
      "工作 {'https://www.liepin.com/job/1927313349.shtml'}\n",
      "工作 创新服务部经理\n",
      "工作 {'https://www.liepin.com/job/1927311571.shtml'}\n",
      "工作 总经理司机\n",
      "工作 {'https://www.liepin.com/job/1927310879.shtml'}\n",
      "工作 项目总经理\n",
      "工作 {'https://www.liepin.com/job/1927310673.shtml'}\n",
      "工作 项目机电部经理\n",
      "工作 {'https://www.liepin.com/job/1927308829.shtml'}\n",
      "工作 PMC经理\n",
      "工作 {'https://www.liepin.com/job/1927308787.shtml'}\n",
      "工作 总经理\n",
      "工作 {'https://www.liepin.com/job/1927308669.shtml'}\n",
      "工作 法务副经理\n",
      "工作 {'https://www.liepin.com/job/1927308409.shtml'}\n",
      "工作 审计经理\n",
      "工作 {'https://www.liepin.com/job/1927308303.shtml'}\n"
     ]
    }
   ],
   "source": [
    "from requests_html import HTMLSession\n",
    "\n",
    "session = HTMLSession()\n",
    "\n",
    "r = session.get(\"https://www.liepin.com/zhaopin/?key=经理\")\n",
    "\n",
    "# 通过xpath找到工作标签\n",
    "news = r.html.xpath('//div[@class=\"job-info\"]/h3/a')\n",
    "#             以下所有^^   [@attribute]條件  \n",
    "\n",
    "for new in news:\n",
    "    print(\"工作\",new.text)  # 获得工作标题\n",
    "    print(\"工作\",new.absolute_links)  # 获得工作链接"
   ]
  },
  {
   "cell_type": "markdown",
   "metadata": {},
   "source": [
    "## 不是算Python的内容\n",
    "\n",
    "选择器selector有两种可能，必记下来\n",
    "* [xpath](https://www.runoob.com/xpath/xpath-tutorial.html)\n",
    "* [CSS selector](https://www.runoob.com/css/css-id-class.html)\n",
    "\n",
    "试第一个和另一个，看看有什麽规律 (侦探活)\n",
    "Chrome Console下使用Javascript\n",
    "* xpath: \n",
    "```$x(\"放这\")```\n",
    "\n",
    "* CSS: \n",
    "``` $(\"放这\") ```\n",
    "\n",
    "-----\n",
    "\n",
    "\n",
    "# 项目0.B liepin 工作"
   ]
  },
  {
   "cell_type": "markdown",
   "metadata": {
    "slideshow": {
     "slide_type": "subslide"
    }
   },
   "source": [
    "##  Jupyter展示图魔法\n",
    "\n",
    "* Jupyter 可用的魔法之一 IPython 展示模块, HTML转码"
   ]
  },
  {
   "cell_type": "markdown",
   "metadata": {},
   "source": [
    "### IPython是什么\n",
    "\n",
    "ipython是一个python的交互式shell，比默认的python shell好用得多，支持变量自动补全，自动缩进，支持bash shell命令，内置了许多很有用的功能和函数。学习ipython将会让我们以一种更高的效率来使用python。同时它也是利用Python进行科学计算和交互可视化的一个最佳的平台\n",
    "\n",
    "安装命令：pip install ipython"
   ]
  },
  {
   "cell_type": "code",
   "execution_count": 13,
   "metadata": {
    "scrolled": true,
    "slideshow": {
     "slide_type": "fragment"
    }
   },
   "outputs": [
    {
     "data": {
      "text/html": [
       "<img src=\"https://httpstatusdogs.com/img/418.jpg\" alt=\"\">"
      ],
      "text/plain": [
       "<IPython.core.display.HTML object>"
      ]
     },
     "metadata": {},
     "output_type": "display_data"
    }
   ],
   "source": [
    "from IPython.core.display import display, HTML\n",
    "display(HTML('<img src=\"https://httpstatusdogs.com/img/418.jpg\" alt=\"\">'))"
   ]
  },
  {
   "cell_type": "markdown",
   "metadata": {},
   "source": [
    "#### 226的状态码好看"
   ]
  },
  {
   "cell_type": "code",
   "execution_count": 14,
   "metadata": {},
   "outputs": [
    {
     "data": {
      "text/html": [
       "<img src=\"https://httpstatusdogs.com/img/226.jpg\" alt=\"\">"
      ],
      "text/plain": [
       "<IPython.core.display.HTML object>"
      ]
     },
     "metadata": {},
     "output_type": "display_data"
    }
   ],
   "source": [
    "from IPython.core.display import display, HTML\n",
    "display(HTML('<img src=\"https://httpstatusdogs.com/img/226.jpg\" alt=\"\">'))"
   ]
  },
  {
   "cell_type": "markdown",
   "metadata": {
    "slideshow": {
     "slide_type": "slide"
    }
   },
   "source": [
    "###  展示图\n",
    "* Jupyter 可用的魔法之一 IPython 展示模块, HTML转码"
   ]
  },
  {
   "cell_type": "code",
   "execution_count": 15,
   "metadata": {
    "slideshow": {
     "slide_type": "fragment"
    }
   },
   "outputs": [
    {
     "data": {
      "text/markdown": [
       "![](https://httpstatusdogs.com/img/418.jpg)"
      ],
      "text/plain": [
       "<IPython.core.display.Markdown object>"
      ]
     },
     "metadata": {},
     "output_type": "display_data"
    }
   ],
   "source": [
    "from IPython.core.display import display, Markdown\n",
    "display(Markdown('![](https://httpstatusdogs.com/img/418.jpg)'))"
   ]
  },
  {
   "cell_type": "markdown",
   "metadata": {
    "slideshow": {
     "slide_type": "slide"
    }
   },
   "source": [
    "## 抓抓图片?\n",
    "[图片新闻_Bing](http://www.gov.cn/xinwen/tupian/index.htm)\n",
    "\n",
    "-----\n",
    "\n",
    "\n",
    "#  项目0.C 图片新闻"
   ]
  },
  {
   "cell_type": "code",
   "execution_count": 17,
   "metadata": {
    "slideshow": {
     "slide_type": "fragment"
    }
   },
   "outputs": [
    {
     "name": "stdout",
     "output_type": "stream",
     "text": [
      "data:image/png;base64,iVBORw0KGgoAAAANSUhEUgAAAAEAAAABCAQAAAC1HAwCAAAAC0lEQVR42mNgYAAAAAMAASsJTYQAAAAASUVORK5CYII=\n"
     ]
    },
    {
     "data": {
      "text/markdown": [
       "![](data:image/png;base64,iVBORw0KGgoAAAANSUhEUgAAAAEAAAABCAQAAAC1HAwCAAAAC0lEQVR42mNgYAAAAAMAASsJTYQAAAAASUVORK5CYII=)"
      ],
      "text/plain": [
       "<IPython.core.display.Markdown object>"
      ]
     },
     "metadata": {},
     "output_type": "display_data"
    },
    {
     "name": "stdout",
     "output_type": "stream",
     "text": [
      "https://tse1-mm.cn.bing.net/th/id/OET.00a587ae1ff046408be91fbb076c3752?w=272&h=272&c=7&rs=1&o=5&pid=1.9\n"
     ]
    },
    {
     "data": {
      "text/markdown": [
       "![](https://tse1-mm.cn.bing.net/th/id/OET.00a587ae1ff046408be91fbb076c3752?w=272&h=272&c=7&rs=1&o=5&pid=1.9)"
      ],
      "text/plain": [
       "<IPython.core.display.Markdown object>"
      ]
     },
     "metadata": {},
     "output_type": "display_data"
    },
    {
     "name": "stdout",
     "output_type": "stream",
     "text": [
      "https://tse1-mm.cn.bing.net/th/id/OET.c6f829cef1f541cc830001e576d18509?w=272&h=135&c=7&rs=1&o=5&pid=1.9\n"
     ]
    },
    {
     "data": {
      "text/markdown": [
       "![](https://tse1-mm.cn.bing.net/th/id/OET.c6f829cef1f541cc830001e576d18509?w=272&h=135&c=7&rs=1&o=5&pid=1.9)"
      ],
      "text/plain": [
       "<IPython.core.display.Markdown object>"
      ]
     },
     "metadata": {},
     "output_type": "display_data"
    },
    {
     "name": "stdout",
     "output_type": "stream",
     "text": [
      "https://tse1-mm.cn.bing.net/th/id/OET.42bde6cca7c047f4b1478d5109d617d6?w=272&h=135&c=7&rs=1&o=5&pid=1.9\n"
     ]
    },
    {
     "data": {
      "text/markdown": [
       "![](https://tse1-mm.cn.bing.net/th/id/OET.42bde6cca7c047f4b1478d5109d617d6?w=272&h=135&c=7&rs=1&o=5&pid=1.9)"
      ],
      "text/plain": [
       "<IPython.core.display.Markdown object>"
      ]
     },
     "metadata": {},
     "output_type": "display_data"
    },
    {
     "name": "stdout",
     "output_type": "stream",
     "text": [
      "https://tse1-mm.cn.bing.net/th/id/OET.9066fa49dddf4ca08bb9d2d0c564c8c4?w=272&h=135&c=7&rs=1&o=5&pid=1.9\n"
     ]
    },
    {
     "data": {
      "text/markdown": [
       "![](https://tse1-mm.cn.bing.net/th/id/OET.9066fa49dddf4ca08bb9d2d0c564c8c4?w=272&h=135&c=7&rs=1&o=5&pid=1.9)"
      ],
      "text/plain": [
       "<IPython.core.display.Markdown object>"
      ]
     },
     "metadata": {},
     "output_type": "display_data"
    },
    {
     "name": "stdout",
     "output_type": "stream",
     "text": [
      "https://tse1-mm.cn.bing.net/th/id/OET.473cc515118e4144a5a47b5d15071abf?w=272&h=135&c=7&rs=1&o=5&pid=1.9\n"
     ]
    },
    {
     "data": {
      "text/markdown": [
       "![](https://tse1-mm.cn.bing.net/th/id/OET.473cc515118e4144a5a47b5d15071abf?w=272&h=135&c=7&rs=1&o=5&pid=1.9)"
      ],
      "text/plain": [
       "<IPython.core.display.Markdown object>"
      ]
     },
     "metadata": {},
     "output_type": "display_data"
    },
    {
     "name": "stdout",
     "output_type": "stream",
     "text": [
      "https://tse1-mm.cn.bing.net/th/id/OET.d38656b862044ebab97dd79b686983f4?w=272&h=135&c=7&rs=1&o=5&pid=1.9\n"
     ]
    },
    {
     "data": {
      "text/markdown": [
       "![](https://tse1-mm.cn.bing.net/th/id/OET.d38656b862044ebab97dd79b686983f4?w=272&h=135&c=7&rs=1&o=5&pid=1.9)"
      ],
      "text/plain": [
       "<IPython.core.display.Markdown object>"
      ]
     },
     "metadata": {},
     "output_type": "display_data"
    },
    {
     "name": "stdout",
     "output_type": "stream",
     "text": [
      "https://tse1-mm.cn.bing.net/th/id/OET.e178269064e5469cb039aaf3bf8d07a1?w=272&h=135&c=7&rs=1&o=5&pid=1.9\n"
     ]
    },
    {
     "data": {
      "text/markdown": [
       "![](https://tse1-mm.cn.bing.net/th/id/OET.e178269064e5469cb039aaf3bf8d07a1?w=272&h=135&c=7&rs=1&o=5&pid=1.9)"
      ],
      "text/plain": [
       "<IPython.core.display.Markdown object>"
      ]
     },
     "metadata": {},
     "output_type": "display_data"
    },
    {
     "name": "stdout",
     "output_type": "stream",
     "text": [
      "https://tse1-mm.cn.bing.net/th/id/OET.b6a5c2dfd3804368b8c1bc294fbbefd1?w=135&h=135&c=7&rs=1&o=5&pid=1.9\n"
     ]
    },
    {
     "data": {
      "text/markdown": [
       "![](https://tse1-mm.cn.bing.net/th/id/OET.b6a5c2dfd3804368b8c1bc294fbbefd1?w=135&h=135&c=7&rs=1&o=5&pid=1.9)"
      ],
      "text/plain": [
       "<IPython.core.display.Markdown object>"
      ]
     },
     "metadata": {},
     "output_type": "display_data"
    },
    {
     "name": "stdout",
     "output_type": "stream",
     "text": [
      "https://tse1-mm.cn.bing.net/th/id/OET.10cccd1a1ca44c9cb84eca8a35fe510c?w=135&h=135&c=7&rs=1&o=5&pid=1.9\n"
     ]
    },
    {
     "data": {
      "text/markdown": [
       "![](https://tse1-mm.cn.bing.net/th/id/OET.10cccd1a1ca44c9cb84eca8a35fe510c?w=135&h=135&c=7&rs=1&o=5&pid=1.9)"
      ],
      "text/plain": [
       "<IPython.core.display.Markdown object>"
      ]
     },
     "metadata": {},
     "output_type": "display_data"
    },
    {
     "name": "stdout",
     "output_type": "stream",
     "text": [
      "https://tse1-mm.cn.bing.net/th/id/OET.20d27a9f705f4a1cb60459eceb7b3622?w=135&h=135&c=7&rs=1&o=5&pid=1.9\n"
     ]
    },
    {
     "data": {
      "text/markdown": [
       "![](https://tse1-mm.cn.bing.net/th/id/OET.20d27a9f705f4a1cb60459eceb7b3622?w=135&h=135&c=7&rs=1&o=5&pid=1.9)"
      ],
      "text/plain": [
       "<IPython.core.display.Markdown object>"
      ]
     },
     "metadata": {},
     "output_type": "display_data"
    },
    {
     "name": "stdout",
     "output_type": "stream",
     "text": [
      "https://tse1-mm.cn.bing.net/th/id/OET.ff48a185cf804022bb8168f4231ee894?w=135&h=135&c=7&rs=1&o=5&pid=1.9\n"
     ]
    },
    {
     "data": {
      "text/markdown": [
       "![](https://tse1-mm.cn.bing.net/th/id/OET.ff48a185cf804022bb8168f4231ee894?w=135&h=135&c=7&rs=1&o=5&pid=1.9)"
      ],
      "text/plain": [
       "<IPython.core.display.Markdown object>"
      ]
     },
     "metadata": {},
     "output_type": "display_data"
    },
    {
     "name": "stdout",
     "output_type": "stream",
     "text": [
      "https://tse1-mm.cn.bing.net/th/id/OET.3deabfe23fe541dd9dd21d2d6fdc59c7?w=272&h=272&c=7&rs=1&o=5&pid=1.9\n"
     ]
    },
    {
     "data": {
      "text/markdown": [
       "![](https://tse1-mm.cn.bing.net/th/id/OET.3deabfe23fe541dd9dd21d2d6fdc59c7?w=272&h=272&c=7&rs=1&o=5&pid=1.9)"
      ],
      "text/plain": [
       "<IPython.core.display.Markdown object>"
      ]
     },
     "metadata": {},
     "output_type": "display_data"
    },
    {
     "name": "stdout",
     "output_type": "stream",
     "text": [
      "https://tse1-mm.cn.bing.net/th/id/OET.909cb44461db4edc9bf822ad85ed3e7e?w=135&h=272&c=7&rs=1&o=5&pid=1.9\n"
     ]
    },
    {
     "data": {
      "text/markdown": [
       "![](https://tse1-mm.cn.bing.net/th/id/OET.909cb44461db4edc9bf822ad85ed3e7e?w=135&h=272&c=7&rs=1&o=5&pid=1.9)"
      ],
      "text/plain": [
       "<IPython.core.display.Markdown object>"
      ]
     },
     "metadata": {},
     "output_type": "display_data"
    },
    {
     "name": "stdout",
     "output_type": "stream",
     "text": [
      "https://tse1-mm.cn.bing.net/th/id/OET.dde92f5f96964b57994c57cc82d85926?w=135&h=272&c=7&rs=1&o=5&pid=1.9\n"
     ]
    },
    {
     "data": {
      "text/markdown": [
       "![](https://tse1-mm.cn.bing.net/th/id/OET.dde92f5f96964b57994c57cc82d85926?w=135&h=272&c=7&rs=1&o=5&pid=1.9)"
      ],
      "text/plain": [
       "<IPython.core.display.Markdown object>"
      ]
     },
     "metadata": {},
     "output_type": "display_data"
    },
    {
     "name": "stdout",
     "output_type": "stream",
     "text": [
      "https://tse1-mm.cn.bing.net/th/id/OET.40fdebffc770435eb064c821b378d060?w=135&h=272&c=7&rs=1&o=5&pid=1.9\n"
     ]
    },
    {
     "data": {
      "text/markdown": [
       "![](https://tse1-mm.cn.bing.net/th/id/OET.40fdebffc770435eb064c821b378d060?w=135&h=272&c=7&rs=1&o=5&pid=1.9)"
      ],
      "text/plain": [
       "<IPython.core.display.Markdown object>"
      ]
     },
     "metadata": {},
     "output_type": "display_data"
    },
    {
     "name": "stdout",
     "output_type": "stream",
     "text": [
      "https://tse1-mm.cn.bing.net/th/id/OET.76818fe693d443b0a4ce77f3fe02220d?w=135&h=272&c=7&rs=1&o=5&pid=1.9\n"
     ]
    },
    {
     "data": {
      "text/markdown": [
       "![](https://tse1-mm.cn.bing.net/th/id/OET.76818fe693d443b0a4ce77f3fe02220d?w=135&h=272&c=7&rs=1&o=5&pid=1.9)"
      ],
      "text/plain": [
       "<IPython.core.display.Markdown object>"
      ]
     },
     "metadata": {},
     "output_type": "display_data"
    },
    {
     "name": "stdout",
     "output_type": "stream",
     "text": [
      "https://tse1-mm.cn.bing.net/th/id/OET.d23e3b50c75d47caabeeb4522bcee299?w=135&h=272&c=7&rs=1&o=5&pid=1.9\n"
     ]
    },
    {
     "data": {
      "text/markdown": [
       "![](https://tse1-mm.cn.bing.net/th/id/OET.d23e3b50c75d47caabeeb4522bcee299?w=135&h=272&c=7&rs=1&o=5&pid=1.9)"
      ],
      "text/plain": [
       "<IPython.core.display.Markdown object>"
      ]
     },
     "metadata": {},
     "output_type": "display_data"
    },
    {
     "name": "stdout",
     "output_type": "stream",
     "text": [
      "https://tse1-mm.cn.bing.net/th/id/OET.2836b67d4ed44ef2945a41b3f55267c1?w=135&h=272&c=7&rs=1&o=5&pid=1.9\n"
     ]
    },
    {
     "data": {
      "text/markdown": [
       "![](https://tse1-mm.cn.bing.net/th/id/OET.2836b67d4ed44ef2945a41b3f55267c1?w=135&h=272&c=7&rs=1&o=5&pid=1.9)"
      ],
      "text/plain": [
       "<IPython.core.display.Markdown object>"
      ]
     },
     "metadata": {},
     "output_type": "display_data"
    },
    {
     "name": "stdout",
     "output_type": "stream",
     "text": [
      "https://tse1-mm.cn.bing.net/th/id/OET.5a264a15c31b43118f99d789d70ea026?w=135&h=135&c=7&rs=1&o=5&pid=1.9\n"
     ]
    },
    {
     "data": {
      "text/markdown": [
       "![](https://tse1-mm.cn.bing.net/th/id/OET.5a264a15c31b43118f99d789d70ea026?w=135&h=135&c=7&rs=1&o=5&pid=1.9)"
      ],
      "text/plain": [
       "<IPython.core.display.Markdown object>"
      ]
     },
     "metadata": {},
     "output_type": "display_data"
    },
    {
     "name": "stdout",
     "output_type": "stream",
     "text": [
      "https://tse1-mm.cn.bing.net/th/id/OET.8678abdd702e45428639bef08b94d69d?w=135&h=135&c=7&rs=1&o=5&pid=1.9\n"
     ]
    },
    {
     "data": {
      "text/markdown": [
       "![](https://tse1-mm.cn.bing.net/th/id/OET.8678abdd702e45428639bef08b94d69d?w=135&h=135&c=7&rs=1&o=5&pid=1.9)"
      ],
      "text/plain": [
       "<IPython.core.display.Markdown object>"
      ]
     },
     "metadata": {},
     "output_type": "display_data"
    },
    {
     "name": "stdout",
     "output_type": "stream",
     "text": [
      "https://tse1-mm.cn.bing.net/th/id/OET.3029de2ad6f64aa1abdc1f2fa13bb9bf?w=135&h=135&c=7&rs=1&o=5&pid=1.9\n"
     ]
    },
    {
     "data": {
      "text/markdown": [
       "![](https://tse1-mm.cn.bing.net/th/id/OET.3029de2ad6f64aa1abdc1f2fa13bb9bf?w=135&h=135&c=7&rs=1&o=5&pid=1.9)"
      ],
      "text/plain": [
       "<IPython.core.display.Markdown object>"
      ]
     },
     "metadata": {},
     "output_type": "display_data"
    },
    {
     "name": "stdout",
     "output_type": "stream",
     "text": [
      "https://tse1-mm.cn.bing.net/th/id/OET.58a5cc628bf24895a21261e98deeca3b?w=135&h=135&c=7&rs=1&o=5&pid=1.9\n"
     ]
    },
    {
     "data": {
      "text/markdown": [
       "![](https://tse1-mm.cn.bing.net/th/id/OET.58a5cc628bf24895a21261e98deeca3b?w=135&h=135&c=7&rs=1&o=5&pid=1.9)"
      ],
      "text/plain": [
       "<IPython.core.display.Markdown object>"
      ]
     },
     "metadata": {},
     "output_type": "display_data"
    },
    {
     "name": "stdout",
     "output_type": "stream",
     "text": [
      "https://tse1-mm.cn.bing.net/th/id/OET.48440d99426541859bfadadee60ec9d3?w=272&h=272&c=7&rs=1&o=5&pid=1.9\n"
     ]
    },
    {
     "data": {
      "text/markdown": [
       "![](https://tse1-mm.cn.bing.net/th/id/OET.48440d99426541859bfadadee60ec9d3?w=272&h=272&c=7&rs=1&o=5&pid=1.9)"
      ],
      "text/plain": [
       "<IPython.core.display.Markdown object>"
      ]
     },
     "metadata": {},
     "output_type": "display_data"
    },
    {
     "name": "stdout",
     "output_type": "stream",
     "text": [
      "https://tse1-mm.cn.bing.net/th/id/OET.42204ad983b54fc99985f1f8f3689527?w=135&h=272&c=7&rs=1&o=5&pid=1.9\n"
     ]
    },
    {
     "data": {
      "text/markdown": [
       "![](https://tse1-mm.cn.bing.net/th/id/OET.42204ad983b54fc99985f1f8f3689527?w=135&h=272&c=7&rs=1&o=5&pid=1.9)"
      ],
      "text/plain": [
       "<IPython.core.display.Markdown object>"
      ]
     },
     "metadata": {},
     "output_type": "display_data"
    },
    {
     "name": "stdout",
     "output_type": "stream",
     "text": [
      "https://tse1-mm.cn.bing.net/th/id/OET.1cfc106b85c04dd9a11a421a30895649?w=135&h=272&c=7&rs=1&o=5&pid=1.9\n"
     ]
    },
    {
     "data": {
      "text/markdown": [
       "![](https://tse1-mm.cn.bing.net/th/id/OET.1cfc106b85c04dd9a11a421a30895649?w=135&h=272&c=7&rs=1&o=5&pid=1.9)"
      ],
      "text/plain": [
       "<IPython.core.display.Markdown object>"
      ]
     },
     "metadata": {},
     "output_type": "display_data"
    },
    {
     "name": "stdout",
     "output_type": "stream",
     "text": [
      "https://tse1-mm.cn.bing.net/th/id/OET.b3b17bf5154147509f36576ef21c517d?w=135&h=272&c=7&rs=1&o=5&pid=1.9\n"
     ]
    },
    {
     "data": {
      "text/markdown": [
       "![](https://tse1-mm.cn.bing.net/th/id/OET.b3b17bf5154147509f36576ef21c517d?w=135&h=272&c=7&rs=1&o=5&pid=1.9)"
      ],
      "text/plain": [
       "<IPython.core.display.Markdown object>"
      ]
     },
     "metadata": {},
     "output_type": "display_data"
    },
    {
     "name": "stdout",
     "output_type": "stream",
     "text": [
      "https://tse1-mm.cn.bing.net/th/id/OET.f605f7a1612444edaba1bd0524f12875?w=135&h=272&c=7&rs=1&o=5&pid=1.9\n"
     ]
    },
    {
     "data": {
      "text/markdown": [
       "![](https://tse1-mm.cn.bing.net/th/id/OET.f605f7a1612444edaba1bd0524f12875?w=135&h=272&c=7&rs=1&o=5&pid=1.9)"
      ],
      "text/plain": [
       "<IPython.core.display.Markdown object>"
      ]
     },
     "metadata": {},
     "output_type": "display_data"
    },
    {
     "name": "stdout",
     "output_type": "stream",
     "text": [
      "https://tse1-mm.cn.bing.net/th/id/OET.0eeaa847eb364db19f1e0a1a530d7f83?w=135&h=272&c=7&rs=1&o=5&pid=1.9\n"
     ]
    },
    {
     "data": {
      "text/markdown": [
       "![](https://tse1-mm.cn.bing.net/th/id/OET.0eeaa847eb364db19f1e0a1a530d7f83?w=135&h=272&c=7&rs=1&o=5&pid=1.9)"
      ],
      "text/plain": [
       "<IPython.core.display.Markdown object>"
      ]
     },
     "metadata": {},
     "output_type": "display_data"
    },
    {
     "name": "stdout",
     "output_type": "stream",
     "text": [
      "https://tse1-mm.cn.bing.net/th/id/OET.e7835a7fb6ee4baa81a78779e2d73d32?w=135&h=272&c=7&rs=1&o=5&pid=1.9\n"
     ]
    },
    {
     "data": {
      "text/markdown": [
       "![](https://tse1-mm.cn.bing.net/th/id/OET.e7835a7fb6ee4baa81a78779e2d73d32?w=135&h=272&c=7&rs=1&o=5&pid=1.9)"
      ],
      "text/plain": [
       "<IPython.core.display.Markdown object>"
      ]
     },
     "metadata": {},
     "output_type": "display_data"
    },
    {
     "name": "stdout",
     "output_type": "stream",
     "text": [
      "https://tse1-mm.cn.bing.net/th/id/OET.7ffa6c853d974d5c813f8a9883c9d8fa?w=135&h=135&c=7&rs=1&o=5&pid=1.9\n"
     ]
    },
    {
     "data": {
      "text/markdown": [
       "![](https://tse1-mm.cn.bing.net/th/id/OET.7ffa6c853d974d5c813f8a9883c9d8fa?w=135&h=135&c=7&rs=1&o=5&pid=1.9)"
      ],
      "text/plain": [
       "<IPython.core.display.Markdown object>"
      ]
     },
     "metadata": {},
     "output_type": "display_data"
    },
    {
     "name": "stdout",
     "output_type": "stream",
     "text": [
      "https://tse1-mm.cn.bing.net/th/id/OET.b3c40d60a537416bba684283d94b7c81?w=135&h=135&c=7&rs=1&o=5&pid=1.9\n"
     ]
    },
    {
     "data": {
      "text/markdown": [
       "![](https://tse1-mm.cn.bing.net/th/id/OET.b3c40d60a537416bba684283d94b7c81?w=135&h=135&c=7&rs=1&o=5&pid=1.9)"
      ],
      "text/plain": [
       "<IPython.core.display.Markdown object>"
      ]
     },
     "metadata": {},
     "output_type": "display_data"
    },
    {
     "name": "stdout",
     "output_type": "stream",
     "text": [
      "https://tse1-mm.cn.bing.net/th/id/OET.743d10b2b71b43ad8dde870a9858753a?w=135&h=135&c=7&rs=1&o=5&pid=1.9\n"
     ]
    },
    {
     "data": {
      "text/markdown": [
       "![](https://tse1-mm.cn.bing.net/th/id/OET.743d10b2b71b43ad8dde870a9858753a?w=135&h=135&c=7&rs=1&o=5&pid=1.9)"
      ],
      "text/plain": [
       "<IPython.core.display.Markdown object>"
      ]
     },
     "metadata": {},
     "output_type": "display_data"
    },
    {
     "name": "stdout",
     "output_type": "stream",
     "text": [
      "https://tse1-mm.cn.bing.net/th/id/OET.962cc476d45c4c6ea7f14ae9c10de749?w=135&h=135&c=7&rs=1&o=5&pid=1.9\n"
     ]
    },
    {
     "data": {
      "text/markdown": [
       "![](https://tse1-mm.cn.bing.net/th/id/OET.962cc476d45c4c6ea7f14ae9c10de749?w=135&h=135&c=7&rs=1&o=5&pid=1.9)"
      ],
      "text/plain": [
       "<IPython.core.display.Markdown object>"
      ]
     },
     "metadata": {},
     "output_type": "display_data"
    },
    {
     "name": "stdout",
     "output_type": "stream",
     "text": [
      "https://tse1-mm.cn.bing.net/th/id/OET.f7173586f4a547afae5cc74da3403d8a?w=272&h=272&c=7&rs=1&o=5&pid=1.9\n"
     ]
    },
    {
     "data": {
      "text/markdown": [
       "![](https://tse1-mm.cn.bing.net/th/id/OET.f7173586f4a547afae5cc74da3403d8a?w=272&h=272&c=7&rs=1&o=5&pid=1.9)"
      ],
      "text/plain": [
       "<IPython.core.display.Markdown object>"
      ]
     },
     "metadata": {},
     "output_type": "display_data"
    },
    {
     "name": "stdout",
     "output_type": "stream",
     "text": [
      "https://tse1-mm.cn.bing.net/th/id/OET.68c9d92cff064926a1450d8390831341?w=272&h=135&c=7&rs=1&o=5&pid=1.9\n"
     ]
    },
    {
     "data": {
      "text/markdown": [
       "![](https://tse1-mm.cn.bing.net/th/id/OET.68c9d92cff064926a1450d8390831341?w=272&h=135&c=7&rs=1&o=5&pid=1.9)"
      ],
      "text/plain": [
       "<IPython.core.display.Markdown object>"
      ]
     },
     "metadata": {},
     "output_type": "display_data"
    },
    {
     "name": "stdout",
     "output_type": "stream",
     "text": [
      "https://tse1-mm.cn.bing.net/th/id/OET.7dd44f30033b4b468044b0fdde334aa5?w=272&h=135&c=7&rs=1&o=5&pid=1.9\n"
     ]
    },
    {
     "data": {
      "text/markdown": [
       "![](https://tse1-mm.cn.bing.net/th/id/OET.7dd44f30033b4b468044b0fdde334aa5?w=272&h=135&c=7&rs=1&o=5&pid=1.9)"
      ],
      "text/plain": [
       "<IPython.core.display.Markdown object>"
      ]
     },
     "metadata": {},
     "output_type": "display_data"
    },
    {
     "name": "stdout",
     "output_type": "stream",
     "text": [
      "https://tse1-mm.cn.bing.net/th/id/OET.89bc6453152d446b8b84a6cc116bda02?w=272&h=135&c=7&rs=1&o=5&pid=1.9\n"
     ]
    },
    {
     "data": {
      "text/markdown": [
       "![](https://tse1-mm.cn.bing.net/th/id/OET.89bc6453152d446b8b84a6cc116bda02?w=272&h=135&c=7&rs=1&o=5&pid=1.9)"
      ],
      "text/plain": [
       "<IPython.core.display.Markdown object>"
      ]
     },
     "metadata": {},
     "output_type": "display_data"
    },
    {
     "name": "stdout",
     "output_type": "stream",
     "text": [
      "https://tse1-mm.cn.bing.net/th/id/OET.1b16bde64e4d4f9a801d6cb5b00a5b49?w=272&h=135&c=7&rs=1&o=5&pid=1.9\n"
     ]
    },
    {
     "data": {
      "text/markdown": [
       "![](https://tse1-mm.cn.bing.net/th/id/OET.1b16bde64e4d4f9a801d6cb5b00a5b49?w=272&h=135&c=7&rs=1&o=5&pid=1.9)"
      ],
      "text/plain": [
       "<IPython.core.display.Markdown object>"
      ]
     },
     "metadata": {},
     "output_type": "display_data"
    },
    {
     "name": "stdout",
     "output_type": "stream",
     "text": [
      "https://tse1-mm.cn.bing.net/th/id/OET.de8ba1412e6d46d8b900eb4c9f07e91b?w=272&h=135&c=7&rs=1&o=5&pid=1.9\n"
     ]
    },
    {
     "data": {
      "text/markdown": [
       "![](https://tse1-mm.cn.bing.net/th/id/OET.de8ba1412e6d46d8b900eb4c9f07e91b?w=272&h=135&c=7&rs=1&o=5&pid=1.9)"
      ],
      "text/plain": [
       "<IPython.core.display.Markdown object>"
      ]
     },
     "metadata": {},
     "output_type": "display_data"
    },
    {
     "name": "stdout",
     "output_type": "stream",
     "text": [
      "https://tse1-mm.cn.bing.net/th/id/OET.2f557fb3b82f41eebf20d33f0147b8dd?w=272&h=135&c=7&rs=1&o=5&pid=1.9\n"
     ]
    },
    {
     "data": {
      "text/markdown": [
       "![](https://tse1-mm.cn.bing.net/th/id/OET.2f557fb3b82f41eebf20d33f0147b8dd?w=272&h=135&c=7&rs=1&o=5&pid=1.9)"
      ],
      "text/plain": [
       "<IPython.core.display.Markdown object>"
      ]
     },
     "metadata": {},
     "output_type": "display_data"
    },
    {
     "name": "stdout",
     "output_type": "stream",
     "text": [
      "https://tse1-mm.cn.bing.net/th/id/OET.1f55426ea2474b6ea40604573fbe653e?w=135&h=135&c=7&rs=1&o=5&pid=1.9\n"
     ]
    },
    {
     "data": {
      "text/markdown": [
       "![](https://tse1-mm.cn.bing.net/th/id/OET.1f55426ea2474b6ea40604573fbe653e?w=135&h=135&c=7&rs=1&o=5&pid=1.9)"
      ],
      "text/plain": [
       "<IPython.core.display.Markdown object>"
      ]
     },
     "metadata": {},
     "output_type": "display_data"
    },
    {
     "name": "stdout",
     "output_type": "stream",
     "text": [
      "https://tse1-mm.cn.bing.net/th/id/OET.c231bf0a75e14cfbadb84ea85b0f24bd?w=135&h=135&c=7&rs=1&o=5&pid=1.9\n"
     ]
    },
    {
     "data": {
      "text/markdown": [
       "![](https://tse1-mm.cn.bing.net/th/id/OET.c231bf0a75e14cfbadb84ea85b0f24bd?w=135&h=135&c=7&rs=1&o=5&pid=1.9)"
      ],
      "text/plain": [
       "<IPython.core.display.Markdown object>"
      ]
     },
     "metadata": {},
     "output_type": "display_data"
    },
    {
     "name": "stdout",
     "output_type": "stream",
     "text": [
      "https://tse1-mm.cn.bing.net/th/id/OET.e17a4597ca3849d4809a081deb79c075?w=135&h=135&c=7&rs=1&o=5&pid=1.9\n"
     ]
    },
    {
     "data": {
      "text/markdown": [
       "![](https://tse1-mm.cn.bing.net/th/id/OET.e17a4597ca3849d4809a081deb79c075?w=135&h=135&c=7&rs=1&o=5&pid=1.9)"
      ],
      "text/plain": [
       "<IPython.core.display.Markdown object>"
      ]
     },
     "metadata": {},
     "output_type": "display_data"
    },
    {
     "name": "stdout",
     "output_type": "stream",
     "text": [
      "https://tse1-mm.cn.bing.net/th/id/OET.7357027f83ee44bb8b7d08716013939b?w=135&h=135&c=7&rs=1&o=5&pid=1.9\n"
     ]
    },
    {
     "data": {
      "text/markdown": [
       "![](https://tse1-mm.cn.bing.net/th/id/OET.7357027f83ee44bb8b7d08716013939b?w=135&h=135&c=7&rs=1&o=5&pid=1.9)"
      ],
      "text/plain": [
       "<IPython.core.display.Markdown object>"
      ]
     },
     "metadata": {},
     "output_type": "display_data"
    },
    {
     "name": "stdout",
     "output_type": "stream",
     "text": [
      "https://tse1-mm.cn.bing.net/th/id/OET.1ec0493ebfc0451983e24ef7afab32cc?w=272&h=272&c=7&rs=1&o=5&pid=1.9\n"
     ]
    },
    {
     "data": {
      "text/markdown": [
       "![](https://tse1-mm.cn.bing.net/th/id/OET.1ec0493ebfc0451983e24ef7afab32cc?w=272&h=272&c=7&rs=1&o=5&pid=1.9)"
      ],
      "text/plain": [
       "<IPython.core.display.Markdown object>"
      ]
     },
     "metadata": {},
     "output_type": "display_data"
    },
    {
     "name": "stdout",
     "output_type": "stream",
     "text": [
      "https://tse1-mm.cn.bing.net/th/id/OET.1ca1d0f4d5af42f09decbe20d9258e08?w=272&h=135&c=7&rs=1&o=5&pid=1.9\n"
     ]
    },
    {
     "data": {
      "text/markdown": [
       "![](https://tse1-mm.cn.bing.net/th/id/OET.1ca1d0f4d5af42f09decbe20d9258e08?w=272&h=135&c=7&rs=1&o=5&pid=1.9)"
      ],
      "text/plain": [
       "<IPython.core.display.Markdown object>"
      ]
     },
     "metadata": {},
     "output_type": "display_data"
    },
    {
     "name": "stdout",
     "output_type": "stream",
     "text": [
      "https://tse1-mm.cn.bing.net/th/id/OET.ac36515ef40d41ce872ad24873b2b01e?w=272&h=135&c=7&rs=1&o=5&pid=1.9\n"
     ]
    },
    {
     "data": {
      "text/markdown": [
       "![](https://tse1-mm.cn.bing.net/th/id/OET.ac36515ef40d41ce872ad24873b2b01e?w=272&h=135&c=7&rs=1&o=5&pid=1.9)"
      ],
      "text/plain": [
       "<IPython.core.display.Markdown object>"
      ]
     },
     "metadata": {},
     "output_type": "display_data"
    },
    {
     "name": "stdout",
     "output_type": "stream",
     "text": [
      "https://tse1-mm.cn.bing.net/th/id/OET.191598f3fd704b93a141faa025145673?w=272&h=135&c=7&rs=1&o=5&pid=1.9\n"
     ]
    },
    {
     "data": {
      "text/markdown": [
       "![](https://tse1-mm.cn.bing.net/th/id/OET.191598f3fd704b93a141faa025145673?w=272&h=135&c=7&rs=1&o=5&pid=1.9)"
      ],
      "text/plain": [
       "<IPython.core.display.Markdown object>"
      ]
     },
     "metadata": {},
     "output_type": "display_data"
    },
    {
     "name": "stdout",
     "output_type": "stream",
     "text": [
      "https://tse1-mm.cn.bing.net/th/id/OET.eff35fefece14bc999ae04aa7c012c2c?w=272&h=135&c=7&rs=1&o=5&pid=1.9\n"
     ]
    },
    {
     "data": {
      "text/markdown": [
       "![](https://tse1-mm.cn.bing.net/th/id/OET.eff35fefece14bc999ae04aa7c012c2c?w=272&h=135&c=7&rs=1&o=5&pid=1.9)"
      ],
      "text/plain": [
       "<IPython.core.display.Markdown object>"
      ]
     },
     "metadata": {},
     "output_type": "display_data"
    },
    {
     "name": "stdout",
     "output_type": "stream",
     "text": [
      "https://tse1-mm.cn.bing.net/th/id/OET.5354bdc5fb5143968c7b8dcda370919e?w=272&h=135&c=7&rs=1&o=5&pid=1.9\n"
     ]
    },
    {
     "data": {
      "text/markdown": [
       "![](https://tse1-mm.cn.bing.net/th/id/OET.5354bdc5fb5143968c7b8dcda370919e?w=272&h=135&c=7&rs=1&o=5&pid=1.9)"
      ],
      "text/plain": [
       "<IPython.core.display.Markdown object>"
      ]
     },
     "metadata": {},
     "output_type": "display_data"
    },
    {
     "name": "stdout",
     "output_type": "stream",
     "text": [
      "https://tse1-mm.cn.bing.net/th/id/OET.0c681e62143e49929c2f44e30ab61b90?w=272&h=135&c=7&rs=1&o=5&pid=1.9\n"
     ]
    },
    {
     "data": {
      "text/markdown": [
       "![](https://tse1-mm.cn.bing.net/th/id/OET.0c681e62143e49929c2f44e30ab61b90?w=272&h=135&c=7&rs=1&o=5&pid=1.9)"
      ],
      "text/plain": [
       "<IPython.core.display.Markdown object>"
      ]
     },
     "metadata": {},
     "output_type": "display_data"
    },
    {
     "name": "stdout",
     "output_type": "stream",
     "text": [
      "https://tse1-mm.cn.bing.net/th/id/OET.738c80cb3daa48e79b6f29f100ec42ed?w=135&h=135&c=7&rs=1&o=5&pid=1.9\n"
     ]
    },
    {
     "data": {
      "text/markdown": [
       "![](https://tse1-mm.cn.bing.net/th/id/OET.738c80cb3daa48e79b6f29f100ec42ed?w=135&h=135&c=7&rs=1&o=5&pid=1.9)"
      ],
      "text/plain": [
       "<IPython.core.display.Markdown object>"
      ]
     },
     "metadata": {},
     "output_type": "display_data"
    },
    {
     "name": "stdout",
     "output_type": "stream",
     "text": [
      "https://tse1-mm.cn.bing.net/th/id/OET.8ec6c4aee5194b0a896db5ef3191afab?w=135&h=135&c=7&rs=1&o=5&pid=1.9\n"
     ]
    },
    {
     "data": {
      "text/markdown": [
       "![](https://tse1-mm.cn.bing.net/th/id/OET.8ec6c4aee5194b0a896db5ef3191afab?w=135&h=135&c=7&rs=1&o=5&pid=1.9)"
      ],
      "text/plain": [
       "<IPython.core.display.Markdown object>"
      ]
     },
     "metadata": {},
     "output_type": "display_data"
    },
    {
     "name": "stdout",
     "output_type": "stream",
     "text": [
      "https://tse1-mm.cn.bing.net/th/id/OET.7706e7f7221949bcb5f237c4fbfb7bc2?w=135&h=135&c=7&rs=1&o=5&pid=1.9\n"
     ]
    },
    {
     "data": {
      "text/markdown": [
       "![](https://tse1-mm.cn.bing.net/th/id/OET.7706e7f7221949bcb5f237c4fbfb7bc2?w=135&h=135&c=7&rs=1&o=5&pid=1.9)"
      ],
      "text/plain": [
       "<IPython.core.display.Markdown object>"
      ]
     },
     "metadata": {},
     "output_type": "display_data"
    },
    {
     "name": "stdout",
     "output_type": "stream",
     "text": [
      "https://tse1-mm.cn.bing.net/th/id/OET.78ff3df35c654a4b913b297134bd63e0?w=135&h=135&c=7&rs=1&o=5&pid=1.9\n"
     ]
    },
    {
     "data": {
      "text/markdown": [
       "![](https://tse1-mm.cn.bing.net/th/id/OET.78ff3df35c654a4b913b297134bd63e0?w=135&h=135&c=7&rs=1&o=5&pid=1.9)"
      ],
      "text/plain": [
       "<IPython.core.display.Markdown object>"
      ]
     },
     "metadata": {},
     "output_type": "display_data"
    },
    {
     "name": "stdout",
     "output_type": "stream",
     "text": [
      "https://tse1-mm.cn.bing.net/th/id/OET.5882b886bdba43cc8c841c6fbe0436a0?w=272&h=272&c=7&rs=1&o=5&pid=1.9\n"
     ]
    },
    {
     "data": {
      "text/markdown": [
       "![](https://tse1-mm.cn.bing.net/th/id/OET.5882b886bdba43cc8c841c6fbe0436a0?w=272&h=272&c=7&rs=1&o=5&pid=1.9)"
      ],
      "text/plain": [
       "<IPython.core.display.Markdown object>"
      ]
     },
     "metadata": {},
     "output_type": "display_data"
    },
    {
     "name": "stdout",
     "output_type": "stream",
     "text": [
      "https://tse1-mm.cn.bing.net/th/id/OET.18a8a1511b164a00b850dcf1546fbca5?w=272&h=135&c=7&rs=1&o=5&pid=1.9\n"
     ]
    },
    {
     "data": {
      "text/markdown": [
       "![](https://tse1-mm.cn.bing.net/th/id/OET.18a8a1511b164a00b850dcf1546fbca5?w=272&h=135&c=7&rs=1&o=5&pid=1.9)"
      ],
      "text/plain": [
       "<IPython.core.display.Markdown object>"
      ]
     },
     "metadata": {},
     "output_type": "display_data"
    },
    {
     "name": "stdout",
     "output_type": "stream",
     "text": [
      "https://tse1-mm.cn.bing.net/th/id/OET.9906344df6f94b9fa3b3bd3decbdd80a?w=272&h=135&c=7&rs=1&o=5&pid=1.9\n"
     ]
    },
    {
     "data": {
      "text/markdown": [
       "![](https://tse1-mm.cn.bing.net/th/id/OET.9906344df6f94b9fa3b3bd3decbdd80a?w=272&h=135&c=7&rs=1&o=5&pid=1.9)"
      ],
      "text/plain": [
       "<IPython.core.display.Markdown object>"
      ]
     },
     "metadata": {},
     "output_type": "display_data"
    },
    {
     "name": "stdout",
     "output_type": "stream",
     "text": [
      "https://tse1-mm.cn.bing.net/th/id/OET.bca4b6230d324279aa55b1dbdaab003f?w=272&h=135&c=7&rs=1&o=5&pid=1.9\n"
     ]
    },
    {
     "data": {
      "text/markdown": [
       "![](https://tse1-mm.cn.bing.net/th/id/OET.bca4b6230d324279aa55b1dbdaab003f?w=272&h=135&c=7&rs=1&o=5&pid=1.9)"
      ],
      "text/plain": [
       "<IPython.core.display.Markdown object>"
      ]
     },
     "metadata": {},
     "output_type": "display_data"
    },
    {
     "name": "stdout",
     "output_type": "stream",
     "text": [
      "https://tse1-mm.cn.bing.net/th/id/OET.6440e4bd5f6f4b2faa1fad2276d6952c?w=272&h=135&c=7&rs=1&o=5&pid=1.9\n"
     ]
    },
    {
     "data": {
      "text/markdown": [
       "![](https://tse1-mm.cn.bing.net/th/id/OET.6440e4bd5f6f4b2faa1fad2276d6952c?w=272&h=135&c=7&rs=1&o=5&pid=1.9)"
      ],
      "text/plain": [
       "<IPython.core.display.Markdown object>"
      ]
     },
     "metadata": {},
     "output_type": "display_data"
    },
    {
     "name": "stdout",
     "output_type": "stream",
     "text": [
      "https://tse1-mm.cn.bing.net/th/id/OET.688c677dbe9d4b1dbb9ac59f31d23787?w=272&h=135&c=7&rs=1&o=5&pid=1.9\n"
     ]
    },
    {
     "data": {
      "text/markdown": [
       "![](https://tse1-mm.cn.bing.net/th/id/OET.688c677dbe9d4b1dbb9ac59f31d23787?w=272&h=135&c=7&rs=1&o=5&pid=1.9)"
      ],
      "text/plain": [
       "<IPython.core.display.Markdown object>"
      ]
     },
     "metadata": {},
     "output_type": "display_data"
    },
    {
     "name": "stdout",
     "output_type": "stream",
     "text": [
      "https://tse1-mm.cn.bing.net/th/id/OET.76b3f676d5614d5faa84d53d411038fc?w=272&h=135&c=7&rs=1&o=5&pid=1.9\n"
     ]
    },
    {
     "data": {
      "text/markdown": [
       "![](https://tse1-mm.cn.bing.net/th/id/OET.76b3f676d5614d5faa84d53d411038fc?w=272&h=135&c=7&rs=1&o=5&pid=1.9)"
      ],
      "text/plain": [
       "<IPython.core.display.Markdown object>"
      ]
     },
     "metadata": {},
     "output_type": "display_data"
    },
    {
     "name": "stdout",
     "output_type": "stream",
     "text": [
      "https://tse1-mm.cn.bing.net/th/id/OET.68bd78e1e180450b944ee6a559c83551?w=135&h=135&c=7&rs=1&o=5&pid=1.9\n"
     ]
    },
    {
     "data": {
      "text/markdown": [
       "![](https://tse1-mm.cn.bing.net/th/id/OET.68bd78e1e180450b944ee6a559c83551?w=135&h=135&c=7&rs=1&o=5&pid=1.9)"
      ],
      "text/plain": [
       "<IPython.core.display.Markdown object>"
      ]
     },
     "metadata": {},
     "output_type": "display_data"
    },
    {
     "name": "stdout",
     "output_type": "stream",
     "text": [
      "https://tse1-mm.cn.bing.net/th/id/OET.3e429d35b3b249d29a4d00e7debc0481?w=135&h=135&c=7&rs=1&o=5&pid=1.9\n"
     ]
    },
    {
     "data": {
      "text/markdown": [
       "![](https://tse1-mm.cn.bing.net/th/id/OET.3e429d35b3b249d29a4d00e7debc0481?w=135&h=135&c=7&rs=1&o=5&pid=1.9)"
      ],
      "text/plain": [
       "<IPython.core.display.Markdown object>"
      ]
     },
     "metadata": {},
     "output_type": "display_data"
    },
    {
     "name": "stdout",
     "output_type": "stream",
     "text": [
      "https://tse1-mm.cn.bing.net/th/id/OET.b711b852c3544fa1b42d03f7946edb15?w=135&h=135&c=7&rs=1&o=5&pid=1.9\n"
     ]
    },
    {
     "data": {
      "text/markdown": [
       "![](https://tse1-mm.cn.bing.net/th/id/OET.b711b852c3544fa1b42d03f7946edb15?w=135&h=135&c=7&rs=1&o=5&pid=1.9)"
      ],
      "text/plain": [
       "<IPython.core.display.Markdown object>"
      ]
     },
     "metadata": {},
     "output_type": "display_data"
    },
    {
     "name": "stdout",
     "output_type": "stream",
     "text": [
      "https://tse1-mm.cn.bing.net/th/id/OET.c4fa28e274e54e388aee57a7814e3a8e?w=135&h=135&c=7&rs=1&o=5&pid=1.9\n"
     ]
    },
    {
     "data": {
      "text/markdown": [
       "![](https://tse1-mm.cn.bing.net/th/id/OET.c4fa28e274e54e388aee57a7814e3a8e?w=135&h=135&c=7&rs=1&o=5&pid=1.9)"
      ],
      "text/plain": [
       "<IPython.core.display.Markdown object>"
      ]
     },
     "metadata": {},
     "output_type": "display_data"
    },
    {
     "name": "stdout",
     "output_type": "stream",
     "text": [
      "/rs/5g/LG/ic/ytiieusXgM2K8bLkEDP-AS1ePds.png\n"
     ]
    },
    {
     "data": {
      "text/markdown": [
       "![](/rs/5g/LG/ic/ytiieusXgM2K8bLkEDP-AS1ePds.png)"
      ],
      "text/plain": [
       "<IPython.core.display.Markdown object>"
      ]
     },
     "metadata": {},
     "output_type": "display_data"
    }
   ],
   "source": [
    "from requests_html import HTMLSession # 导入模块\n",
    "\n",
    "session = HTMLSession() \n",
    "\n",
    "r = session.get(\"https://cn.bing.com/images/trending\") #获取的方法\n",
    "\n",
    "# 通过xpath找b到图片标签\n",
    "items = r.html.xpath('//img/@src')\n",
    "\n",
    "for url in items:\n",
    "    print(url)  # 获得图片src url\n",
    "    display(Markdown('![]({url})'.format(url=url)))  # 展示图片    "
   ]
  },
  {
   "cell_type": "code",
   "execution_count": 22,
   "metadata": {},
   "outputs": [
    {
     "name": "stdout",
     "output_type": "stream",
     "text": [
      "data:image/png;base64,iVBORw0KGgoAAAANSUhEUgAAAAEAAAABCAQAAAC1HAwCAAAAC0lEQVR42mNgYAAAAAMAASsJTYQAAAAASUVORK5CYII=\n"
     ]
    },
    {
     "data": {
      "text/markdown": [
       "![](data:image/png;base64,iVBORw0KGgoAAAANSUhEUgAAAAEAAAABCAQAAAC1HAwCAAAAC0lEQVR42mNgYAAAAAMAASsJTYQAAAAASUVORK5CYII=)"
      ],
      "text/plain": [
       "<IPython.core.display.Markdown object>"
      ]
     },
     "metadata": {},
     "output_type": "display_data"
    },
    {
     "name": "stdout",
     "output_type": "stream",
     "text": [
      "/rs/5g/1rJ/ic/kFAqShRrnkQMbH6NYLBYoJ3lq9s.png\n"
     ]
    },
    {
     "data": {
      "text/markdown": [
       "![](/rs/5g/1rJ/ic/kFAqShRrnkQMbH6NYLBYoJ3lq9s.png)"
      ],
      "text/plain": [
       "<IPython.core.display.Markdown object>"
      ]
     },
     "metadata": {},
     "output_type": "display_data"
    },
    {
     "name": "stdout",
     "output_type": "stream",
     "text": [
      "data:image/svg+xml;base64,PHN2ZyB3aWR0aD0iMTZweCIgaGVpZ2h0PSIxNHB4IiBmb2N1c2FibGU9ImZhbHNlIiB2aWV3Qm94PSIwIDAgMTYgMTQiIHhtbG5zPSJodHRwOi8vd3d3LnczLm9yZy8yMDAwL3N2ZyIgeG1sbnM6eGxpbms9Imh0dHA6Ly93d3cudzMub3JnLzE5OTkveGxpbmsiPjxnIHRyYW5zZm9ybT0idHJhbnNsYXRlKC0xMDg1LjAwMDAwMCwgLTIxNTIuMDAwMDAwKSIgZmlsbD0iIzY2NjY2NiI+PHBhdGggZD0iTTEwODUsMjE1MiBMMTA4NSwyMTUzLjcxMDY3IEwxMDkxLDIxNTkuNzEwNjcgTDEwOTEsMjE2NiBMMTA5NSwyMTY2IEwxMDk1LDIxNTkuNzEwNjcgTDExMDEsMjE1My43MTA2NyBMMTEwMSwyMTUyIEwxMDg1LDIxNTIgWiBNMTA5MiwyMTU5LjI4OTMzIEwxMDg2LDIxNTMuMjg5MzMgTDEwODYsMjE1My4wMDEzMyBMMTEwMCwyMTUzLjAwMTMzIEwxMTAwLDIxNTMuMjg5MzMgTDEwOTQsMjE1OS4yODkzMyBMMTA5NCwyMTY1LjAwMTMzIEwxMDkyLDIxNjUuMDAxMzMgTDEwOTIsMjE1OS4yODkzMyBaIi8+PC9nPjwvc3ZnPg==\n"
     ]
    },
    {
     "data": {
      "text/markdown": [
       "![](data:image/svg+xml;base64,PHN2ZyB3aWR0aD0iMTZweCIgaGVpZ2h0PSIxNHB4IiBmb2N1c2FibGU9ImZhbHNlIiB2aWV3Qm94PSIwIDAgMTYgMTQiIHhtbG5zPSJodHRwOi8vd3d3LnczLm9yZy8yMDAwL3N2ZyIgeG1sbnM6eGxpbms9Imh0dHA6Ly93d3cudzMub3JnLzE5OTkveGxpbmsiPjxnIHRyYW5zZm9ybT0idHJhbnNsYXRlKC0xMDg1LjAwMDAwMCwgLTIxNTIuMDAwMDAwKSIgZmlsbD0iIzY2NjY2NiI+PHBhdGggZD0iTTEwODUsMjE1MiBMMTA4NSwyMTUzLjcxMDY3IEwxMDkxLDIxNTkuNzEwNjcgTDEwOTEsMjE2NiBMMTA5NSwyMTY2IEwxMDk1LDIxNTkuNzEwNjcgTDExMDEsMjE1My43MTA2NyBMMTEwMSwyMTUyIEwxMDg1LDIxNTIgWiBNMTA5MiwyMTU5LjI4OTMzIEwxMDg2LDIxNTMuMjg5MzMgTDEwODYsMjE1My4wMDEzMyBMMTEwMCwyMTUzLjAwMTMzIEwxMTAwLDIxNTMuMjg5MzMgTDEwOTQsMjE1OS4yODkzMyBMMTA5NCwyMTY1LjAwMTMzIEwxMDkyLDIxNjUuMDAxMzMgTDEwOTIsMjE1OS4yODkzMyBaIi8+PC9nPjwvc3ZnPg==)"
      ],
      "text/plain": [
       "<IPython.core.display.Markdown object>"
      ]
     },
     "metadata": {},
     "output_type": "display_data"
    },
    {
     "name": "stdout",
     "output_type": "stream",
     "text": [
      "data:image/svg+xml;base64,PHN2ZyBmb2N1c2FibGU9ImZhbHNlIiB4bWxucz0iaHR0cDovL3d3dy53My5vcmcvMjAwMC9zdmciIHZpZXdCb3g9IjAgMCAxNiAxNiIgZW5hYmxlLWJhY2tncm91bmQ9Im5ldyAwIDAgMTYgMTYiPjxwYXRoIGZpbGw9IiM2NjYiIGQ9Ik0wIDFoMTZ2MS43MTFsLTYgNnY2LjI4OWgtNHYtNi4yODlsLTYtNnYtMS43MTF6Ii8+PC9zdmc+\n"
     ]
    },
    {
     "data": {
      "text/markdown": [
       "![](data:image/svg+xml;base64,PHN2ZyBmb2N1c2FibGU9ImZhbHNlIiB4bWxucz0iaHR0cDovL3d3dy53My5vcmcvMjAwMC9zdmciIHZpZXdCb3g9IjAgMCAxNiAxNiIgZW5hYmxlLWJhY2tncm91bmQ9Im5ldyAwIDAgMTYgMTYiPjxwYXRoIGZpbGw9IiM2NjYiIGQ9Ik0wIDFoMTZ2MS43MTFsLTYgNnY2LjI4OWgtNHYtNi4yODlsLTYtNnYtMS43MTF6Ii8+PC9zdmc+)"
      ],
      "text/plain": [
       "<IPython.core.display.Markdown object>"
      ]
     },
     "metadata": {},
     "output_type": "display_data"
    },
    {
     "name": "stdout",
     "output_type": "stream",
     "text": [
      "https://tse2-mm.cn.bing.net/th/id/OIP.ykjYHYhshjxXTC7QZaG6uQHaGS?w=207&h=176&c=7&o=5&pid=1.7\n"
     ]
    },
    {
     "data": {
      "text/markdown": [
       "![](https://tse2-mm.cn.bing.net/th/id/OIP.ykjYHYhshjxXTC7QZaG6uQHaGS?w=207&h=176&c=7&o=5&pid=1.7)"
      ],
      "text/plain": [
       "<IPython.core.display.Markdown object>"
      ]
     },
     "metadata": {},
     "output_type": "display_data"
    },
    {
     "name": "stdout",
     "output_type": "stream",
     "text": [
      "https://tse4-mm.cn.bing.net/th/id/OIP.87h4Vlnl3tjny8MXYRQX0gHaE8?w=264&h=176&c=7&o=5&pid=1.7\n"
     ]
    },
    {
     "data": {
      "text/markdown": [
       "![](https://tse4-mm.cn.bing.net/th/id/OIP.87h4Vlnl3tjny8MXYRQX0gHaE8?w=264&h=176&c=7&o=5&pid=1.7)"
      ],
      "text/plain": [
       "<IPython.core.display.Markdown object>"
      ]
     },
     "metadata": {},
     "output_type": "display_data"
    },
    {
     "name": "stdout",
     "output_type": "stream",
     "text": [
      "data:image/gif;base64,R0lGODlhAQABAIAAAAAAAP///yH5BAEAAAEALAAAAAABAAEAAAIBTAA7\n"
     ]
    },
    {
     "data": {
      "text/markdown": [
       "![](data:image/gif;base64,R0lGODlhAQABAIAAAAAAAP///yH5BAEAAAEALAAAAAABAAEAAAIBTAA7)"
      ],
      "text/plain": [
       "<IPython.core.display.Markdown object>"
      ]
     },
     "metadata": {},
     "output_type": "display_data"
    },
    {
     "name": "stdout",
     "output_type": "stream",
     "text": [
      "data:image/gif;base64,R0lGODlhAQABAIAAAAAAAP///yH5BAEAAAEALAAAAAABAAEAAAIBTAA7\n"
     ]
    },
    {
     "data": {
      "text/markdown": [
       "![](data:image/gif;base64,R0lGODlhAQABAIAAAAAAAP///yH5BAEAAAEALAAAAAABAAEAAAIBTAA7)"
      ],
      "text/plain": [
       "<IPython.core.display.Markdown object>"
      ]
     },
     "metadata": {},
     "output_type": "display_data"
    },
    {
     "name": "stdout",
     "output_type": "stream",
     "text": [
      "data:image/gif;base64,R0lGODlhAQABAIAAAAAAAP///yH5BAEAAAEALAAAAAABAAEAAAIBTAA7\n"
     ]
    },
    {
     "data": {
      "text/markdown": [
       "![](data:image/gif;base64,R0lGODlhAQABAIAAAAAAAP///yH5BAEAAAEALAAAAAABAAEAAAIBTAA7)"
      ],
      "text/plain": [
       "<IPython.core.display.Markdown object>"
      ]
     },
     "metadata": {},
     "output_type": "display_data"
    },
    {
     "name": "stdout",
     "output_type": "stream",
     "text": [
      "data:image/gif;base64,R0lGODlhAQABAIAAAAAAAP///yH5BAEAAAEALAAAAAABAAEAAAIBTAA7\n"
     ]
    },
    {
     "data": {
      "text/markdown": [
       "![](data:image/gif;base64,R0lGODlhAQABAIAAAAAAAP///yH5BAEAAAEALAAAAAABAAEAAAIBTAA7)"
      ],
      "text/plain": [
       "<IPython.core.display.Markdown object>"
      ]
     },
     "metadata": {},
     "output_type": "display_data"
    },
    {
     "name": "stdout",
     "output_type": "stream",
     "text": [
      "data:image/gif;base64,R0lGODlhAQABAIAAAAAAAP///yH5BAEAAAEALAAAAAABAAEAAAIBTAA7\n"
     ]
    },
    {
     "data": {
      "text/markdown": [
       "![](data:image/gif;base64,R0lGODlhAQABAIAAAAAAAP///yH5BAEAAAEALAAAAAABAAEAAAIBTAA7)"
      ],
      "text/plain": [
       "<IPython.core.display.Markdown object>"
      ]
     },
     "metadata": {},
     "output_type": "display_data"
    },
    {
     "name": "stdout",
     "output_type": "stream",
     "text": [
      "data:image/gif;base64,R0lGODlhAQABAIAAAAAAAP///yH5BAEAAAEALAAAAAABAAEAAAIBTAA7\n"
     ]
    },
    {
     "data": {
      "text/markdown": [
       "![](data:image/gif;base64,R0lGODlhAQABAIAAAAAAAP///yH5BAEAAAEALAAAAAABAAEAAAIBTAA7)"
      ],
      "text/plain": [
       "<IPython.core.display.Markdown object>"
      ]
     },
     "metadata": {},
     "output_type": "display_data"
    },
    {
     "name": "stdout",
     "output_type": "stream",
     "text": [
      "data:image/gif;base64,R0lGODlhAQABAIAAAAAAAP///yH5BAEAAAEALAAAAAABAAEAAAIBTAA7\n"
     ]
    },
    {
     "data": {
      "text/markdown": [
       "![](data:image/gif;base64,R0lGODlhAQABAIAAAAAAAP///yH5BAEAAAEALAAAAAABAAEAAAIBTAA7)"
      ],
      "text/plain": [
       "<IPython.core.display.Markdown object>"
      ]
     },
     "metadata": {},
     "output_type": "display_data"
    },
    {
     "name": "stdout",
     "output_type": "stream",
     "text": [
      "data:image/gif;base64,R0lGODlhAQABAIAAAAAAAP///yH5BAEAAAEALAAAAAABAAEAAAIBTAA7\n"
     ]
    },
    {
     "data": {
      "text/markdown": [
       "![](data:image/gif;base64,R0lGODlhAQABAIAAAAAAAP///yH5BAEAAAEALAAAAAABAAEAAAIBTAA7)"
      ],
      "text/plain": [
       "<IPython.core.display.Markdown object>"
      ]
     },
     "metadata": {},
     "output_type": "display_data"
    },
    {
     "name": "stdout",
     "output_type": "stream",
     "text": [
      "data:image/gif;base64,R0lGODlhAQABAIAAAAAAAP///yH5BAEAAAEALAAAAAABAAEAAAIBTAA7\n"
     ]
    },
    {
     "data": {
      "text/markdown": [
       "![](data:image/gif;base64,R0lGODlhAQABAIAAAAAAAP///yH5BAEAAAEALAAAAAABAAEAAAIBTAA7)"
      ],
      "text/plain": [
       "<IPython.core.display.Markdown object>"
      ]
     },
     "metadata": {},
     "output_type": "display_data"
    },
    {
     "name": "stdout",
     "output_type": "stream",
     "text": [
      "data:image/gif;base64,R0lGODlhAQABAIAAAAAAAP///yH5BAEAAAEALAAAAAABAAEAAAIBTAA7\n"
     ]
    },
    {
     "data": {
      "text/markdown": [
       "![](data:image/gif;base64,R0lGODlhAQABAIAAAAAAAP///yH5BAEAAAEALAAAAAABAAEAAAIBTAA7)"
      ],
      "text/plain": [
       "<IPython.core.display.Markdown object>"
      ]
     },
     "metadata": {},
     "output_type": "display_data"
    },
    {
     "name": "stdout",
     "output_type": "stream",
     "text": [
      "/sa/simg/Flag_Feedback.png\n"
     ]
    },
    {
     "data": {
      "text/markdown": [
       "![](/sa/simg/Flag_Feedback.png)"
      ],
      "text/plain": [
       "<IPython.core.display.Markdown object>"
      ]
     },
     "metadata": {},
     "output_type": "display_data"
    },
    {
     "name": "stdout",
     "output_type": "stream",
     "text": [
      "/rs/5g/LG/ic/ytiieusXgM2K8bLkEDP-AS1ePds.png\n"
     ]
    },
    {
     "data": {
      "text/markdown": [
       "![](/rs/5g/LG/ic/ytiieusXgM2K8bLkEDP-AS1ePds.png)"
      ],
      "text/plain": [
       "<IPython.core.display.Markdown object>"
      ]
     },
     "metadata": {},
     "output_type": "display_data"
    }
   ],
   "source": [
    "from requests_html import HTMLSession # 导入模块\n",
    "\n",
    "session = HTMLSession() \n",
    "\n",
    "r = session.get(\"https://cn.bing.com/images/search?q=NASA%e5%9c%b0%e7%90%83%e8%a7%82%e6%b5%8b%e7%ab%99%e8%af%84%e9%80%89%e6%9c%80%e4%bd%b3%e5%9c%b0%e7%90%83%e5%8d%ab%e6%98%9f%e5%9b%be%e5%83%8f&FORM=ISTRTH&id=87E8B88DB37B7EC19617BBAE67E2503DC901F546&cat=%E4%BB%8A%E6%97%A5%E7%83%AD%E5%9B%BE&lpversion=\") # 获取的方法\n",
    "\n",
    "# 通过xpath找到图片标签\n",
    "items = r.html.xpath('//img/@src')\n",
    "\n",
    "for url in items:\n",
    "    print(url)  # 获得图片src url\n",
    "    display(Markdown('![]({url})'.format(url=url)))  # 展示图片    "
   ]
  },
  {
   "cell_type": "markdown",
   "metadata": {
    "slideshow": {
     "slide_type": "slide"
    }
   },
   "source": [
    "---\n",
    "<mark style=\"font-size:48px\">😍😲😙🤭😱</mark>\n",
    "\n",
    "# 总结\n",
    "\n",
    "## 总结你学到什麽新东西？\n",
    "* A<mark style=\"font-size:24px\">😍</mark> request - html 的模块 的导入和使用\n",
    "* B<mark style=\"font-size:24px\">😍</mark>xpath的基本使用方法\n",
    "* C<mark style=\"font-size:24px\">😱</mark>IPython的简单使用\n",
    "\n",
    "\n",
    "## 总结你想会做什麽？\n",
    "* A挖掘相同列表格式的数据\n",
    "* B\n",
    "* C\n"
   ]
  },
  {
   "cell_type": "markdown",
   "metadata": {
    "slideshow": {
     "slide_type": "fragment"
    }
   },
   "source": [
    "---\n",
    "<mark style=\"font-size:48px\">😍😲😙🤭😱</mark>\n",
    "\n",
    "结束\n"
   ]
  },
  {
   "cell_type": "code",
   "execution_count": null,
   "metadata": {},
   "outputs": [],
   "source": []
  }
 ],
 "metadata": {
  "kernelspec": {
   "display_name": "Python 3",
   "language": "python",
   "name": "python3"
  },
  "language_info": {
   "codemirror_mode": {
    "name": "ipython",
    "version": 3
   },
   "file_extension": ".py",
   "mimetype": "text/x-python",
   "name": "python",
   "nbconvert_exporter": "python",
   "pygments_lexer": "ipython3",
   "version": "3.7.7"
  },
  "toc": {
   "base_numbering": 1,
   "nav_menu": {},
   "number_sections": true,
   "sideBar": true,
   "skip_h1_title": false,
   "title_cell": "Table of Contents",
   "title_sidebar": "Contents",
   "toc_cell": false,
   "toc_position": {},
   "toc_section_display": true,
   "toc_window_display": false
  }
 },
 "nbformat": 4,
 "nbformat_minor": 2
}
