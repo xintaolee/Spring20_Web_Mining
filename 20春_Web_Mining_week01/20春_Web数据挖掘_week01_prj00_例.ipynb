{
 "cells": [
  {
   "cell_type": "markdown",
   "metadata": {
    "slideshow": {
     "slide_type": "slide"
    }
   },
   "source": [
    "# 20春_Web数据挖掘\n",
    "*  本周主要内容：总观使用\n",
    "    * **requests-html** 丶\n",
    "    * pd.read_html 丶及\n",
    "    * requests + lxml\n",
    "*  20春_Web数据挖掘_week01\n",
    "*  电子讲义设计者：廖汉腾, 许智超\n",
    "\n",
    "-----\n",
    "week01_prj00_例 使用  requests-html "
   ]
  },
  {
   "cell_type": "markdown",
   "metadata": {
    "slideshow": {
     "slide_type": "fragment"
    }
   },
   "source": [
    "#  项目0.A cnblogs 新闻\n",
    "\n",
    "抄用\n",
    "\n",
    "* 来源 [最新的爬虫工具requests-html](https://www.cnblogs.com/fnng/p/8948015.html)\n",
    "\n",
    "最人性化的模块\n",
    "\n",
    "* 文档 [requests-html](https://requests-html.kennethreitz.org/)\n",
    "\n",
    "## HTML之CSS Selector\n",
    "\n",
    "可以用[CSS selector](https://www.runoob.com/css/css-id-class.html)\n",
    "\n",
    "试第一个和另一个，看看有什麽规律 (侦探活)\n",
    "Chrome Console下使用Javascript\n",
    "\n",
    "``` $(\"放这\") ```\n",
    "\n",
    "-----"
   ]
  },
  {
   "cell_type": "code",
   "execution_count": 1,
   "metadata": {
    "slideshow": {
     "slide_type": "subslide"
    }
   },
   "outputs": [
    {
     "name": "stdout",
     "output_type": "stream",
     "text": [
      "标题: 星巴克的黑粉是瑞幸的护盘侠\n",
      "链接: {'https://news.cnblogs.com/n/659117/'}\n",
      "标题: 云撸猫从未如此真实，谷歌3D动物走红\n",
      "链接: {'https://news.cnblogs.com/n/659061/'}\n",
      "标题: 阿里云打破AI计算纪录，包揽权威竞赛四项第一\n",
      "链接: {'https://news.cnblogs.com/n/659040/'}\n",
      "标题: 大神《我的世界》神还原《清明上河图》\n",
      "链接: {'https://news.cnblogs.com/n/659039/'}\n",
      "标题: 1亿度运行近10秒 中国人造太阳核聚变技术取得重大突破\n",
      "链接: {'https://news.cnblogs.com/n/659008/'}\n",
      "标题: 盘前跌去80%盘后五次熔断！瑞幸惊天大骗局曝光：COO内部造假22亿\n",
      "链接: {'https://news.cnblogs.com/n/658969/'}\n",
      "标题: 微软麻将 AI 论文发布，首次公开技术细节\n",
      "链接: {'https://news.cnblogs.com/n/658965/'}\n",
      "标题: 你以为自己做的是投资，其实，你只是在赌博\n",
      "链接: {'https://news.cnblogs.com/n/658943/'}\n",
      "标题: 淘宝旗舰店竟有“假”的，1000万人被骗是怎么回事？\n",
      "链接: {'https://news.cnblogs.com/n/658930/'}\n",
      "标题: 那个打败柯洁、李世石的阿尔法狗背后的男人，获得2019 ACM 计算奖\n",
      "链接: {'https://news.cnblogs.com/n/658882/'}\n",
      "标题: “司徒正美”不幸离世，刚入职OPPO，著有《JavaScript框架设计》\n",
      "链接: {'https://news.cnblogs.com/n/658878/'}\n",
      "标题: 程序员的一次失误，在 45 分钟里搞垮了一家上市公司\n",
      "链接: {'https://news.cnblogs.com/n/658834/'}\n",
      "标题: Mojang新作《我的世界：地下城》5月28日发行\n",
      "链接: {'https://news.cnblogs.com/n/658813/'}\n",
      "标题: 远程办公监控软件卖爆了：5分钟一拍照、10分钟一截屏\n",
      "链接: {'https://news.cnblogs.com/n/658792/'}\n",
      "标题: 被劣质代码“残害”的这些年\n",
      "链接: {'https://news.cnblogs.com/n/658775/'}\n",
      "标题: 腾讯成为联合国全球合作伙伴，将通过企业微信等在线举办会议\n",
      "链接: {'https://news.cnblogs.com/n/658757/'}\n",
      "标题: Visual Studio 2019 16.6 Preview 2 发布\n",
      "链接: {'https://news.cnblogs.com/n/658720/'}\n",
      "标题: 任正非：华为将研发费用提至200亿美元，已经恢复90%以上的业务\n",
      "链接: {'https://news.cnblogs.com/n/658694/'}\n"
     ]
    }
   ],
   "source": [
    "# prj-0-A\n",
    "\n",
    "# 00: 使用 \n",
    "from requests_html import HTMLSession\n",
    "\n",
    "# 01: 使用session 猜是給定url ()\n",
    "session = HTMLSession()\n",
    "r = session.get(\"https://news.cnblogs.com/n/recommend\")\n",
    "\n",
    "# 02: 使用.find ???? (CSS selector; r.html.find)\n",
    "# 通过CSS找到新闻标签\n",
    "news = r.html.find('h2.news_entry > a')\n",
    "\n",
    "# 03: 结果輸出\n",
    "for new in news:\n",
    "    print(\"标题:\", new.text)  # 获得新闻标题\n",
    "    print(\"链接:\", new.absolute_links)  # 获得新闻链接"
   ]
  },
  {
   "cell_type": "markdown",
   "metadata": {
    "slideshow": {
     "slide_type": "slide"
    }
   },
   "source": [
    "## HTML 之 xpath\n",
    "\n",
    "也可以用[xpath](https://www.runoob.com/xpath/xpath-tutorial.html)\n",
    "\n",
    "试第一个和另一个，看看有什麽规律 (侦探活)\n",
    "Chrome Console下使用Javascript\n",
    "\n",
    "```python \n",
    "$x(\"放这\")\n",
    "\n",
    "```\n",
    "-----\n",
    "\n",
    "\n",
    "# 项目0.B liepin 工作"
   ]
  },
  {
   "cell_type": "code",
   "execution_count": 2,
   "metadata": {
    "slideshow": {
     "slide_type": "subslide"
    }
   },
   "outputs": [
    {
     "name": "stdout",
     "output_type": "stream",
     "text": [
      "工作 行政前台+工作稳定+氛围好+帅哥多\n",
      "工作 {'https://www.liepin.com/job/1926261155.shtml'}\n",
      "工作 90帅哥美女团队销售8k\n",
      "工作 {'https://www.liepin.com/job/1923335419.shtml'}\n",
      "工作 90帅哥美女团队销售8k不加班\n",
      "工作 {'https://www.liepin.com/job/1923408409.shtml'}\n",
      "工作 90帅哥美女团队销售8k包吃住\n",
      "工作 {'https://www.liepin.com/job/1923355103.shtml'}\n",
      "工作 气质有潜质的帅哥西服拍摄\n",
      "工作 {'https://www.liepin.com/job/1923662729.shtml'}\n",
      "工作 新房顾问 激情团队 帅哥美女 无责4.5K\n",
      "工作 {'https://www.liepin.com/job/1923751109.shtml'}\n",
      "工作 实习生（一群激情满满的帅哥美女）\n",
      "工作 {'https://www.liepin.com/job/1920487457.shtml'}\n",
      "工作 后端开发工程师\n",
      "工作 {'https://www.liepin.com/job/1927179531.shtml'}\n",
      "工作 课程开发（初级）\n",
      "工作 {'https://www.liepin.com/job/1927177845.shtml'}\n",
      "工作 课程开发（高级）\n",
      "工作 {'https://www.liepin.com/job/1927177683.shtml'}\n",
      "工作 Web前端开发工程师\n",
      "工作 {'https://www.liepin.com/job/1926806687.shtml'}\n",
      "工作 HRBP主管/经理\n",
      "工作 {'https://www.liepin.com/job/1926656193.shtml'}\n",
      "工作 SEM广告投放（Facebook/Google）\n",
      "工作 {'https://www.liepin.com/job/1926507605.shtml'}\n",
      "工作 服装买手\n",
      "工作 {'https://www.liepin.com/job/1926507563.shtml'}\n",
      "工作 海外广告投放经理（FB/GG）\n",
      "工作 {'https://www.liepin.com/job/1925681279.shtml'}\n",
      "工作 网站运营经理\n",
      "工作 {'https://www.liepin.com/job/1925680965.shtml'}\n",
      "工作 商品经理（女装/鞋子）\n",
      "工作 {'https://www.liepin.com/job/1925680857.shtml'}\n",
      "工作 买手经理（女装/鞋子）\n",
      "工作 {'https://www.liepin.com/job/1925680341.shtml'}\n",
      "工作 鞋子设计师\n",
      "工作 {'https://www.liepin.com/job/1921029797.shtml'}\n",
      "工作 服装开发\n",
      "工作 {'https://www.liepin.com/job/1920093991.shtml'}\n",
      "工作 女装设计师\n",
      "工作 {'https://www.liepin.com/job/1920093987.shtml'}\n",
      "工作 服装买手\n",
      "工作 {'https://www.liepin.com/job/1920093971.shtml'}\n",
      "工作 Facebook投放经理\n",
      "工作 {'https://www.liepin.com/job/1920093945.shtml'}\n",
      "工作 战略中心总监\n",
      "工作 {'https://www.liepin.com/job/1927228937.shtml'}\n",
      "工作 品牌文案经理\n",
      "工作 {'https://www.liepin.com/job/1927228899.shtml'}\n",
      "工作 大客户销售经理\n",
      "工作 {'https://www.liepin.com/job/1927228843.shtml'}\n",
      "工作 大客户销售经理\n",
      "工作 {'https://www.liepin.com/job/1927227431.shtml'}\n",
      "工作 大客户销售经理（西安、兰州）\n",
      "工作 {'https://www.liepin.com/job/1927227429.shtml'}\n",
      "工作 大客户销售经理（长沙、南宁）\n",
      "工作 {'https://www.liepin.com/job/1927227427.shtml'}\n",
      "工作 大客户销售经理（上海、福州）\n",
      "工作 {'https://www.liepin.com/job/1927227425.shtml'}\n",
      "工作 大客户销售经理\n",
      "工作 {'https://www.liepin.com/job/1927227423.shtml'}\n",
      "工作 大客户销售经理（西安、兰州）\n",
      "工作 {'https://www.liepin.com/job/1927227421.shtml'}\n",
      "工作 大客户销售经理（上海、福州）\n",
      "工作 {'https://www.liepin.com/job/1927227419.shtml'}\n",
      "工作 B2B营销主管\n",
      "工作 {'https://www.liepin.com/job/1927227417.shtml'}\n",
      "工作 大客户销售经理（长沙、南宁）\n",
      "工作 {'https://www.liepin.com/job/1927227415.shtml'}\n",
      "工作 大客户销售经理\n",
      "工作 {'https://www.liepin.com/job/1927227413.shtml'}\n",
      "工作 大客户销售经理\n",
      "工作 {'https://www.liepin.com/job/1927227411.shtml'}\n",
      "工作 大客户销售经理\n",
      "工作 {'https://www.liepin.com/job/1927227409.shtml'}\n",
      "工作 标准管理主管\n",
      "工作 {'https://www.liepin.com/job/1927211101.shtml'}\n",
      "工作 客户营销主管\n",
      "工作 {'https://www.liepin.com/job/1927210955.shtml'}\n"
     ]
    }
   ],
   "source": [
    "# prj-0-B\n",
    "\n",
    "from requests_html import HTMLSession\n",
    "\n",
    "session = HTMLSession()\n",
    "\n",
    "r = session.get(\"https://www.liepin.com/zhaopin/?key=帅哥\")\n",
    "\n",
    "# 通过xpath找到工作标签\n",
    "news = r.html.xpath('//div[@class=\"job-info\"]/h3/a')\n",
    "#             以下所有^^   [@attribute]條件  \n",
    "\n",
    "for new in news:\n",
    "    print(\"工作\",new.text)  # 获得工作标题\n",
    "    print(\"工作\",new.absolute_links)  # 获得工作链接"
   ]
  },
  {
   "cell_type": "markdown",
   "metadata": {},
   "source": [
    "## 不是算Python的内容\n",
    "\n",
    "选择器selector有两种可能，必记下来\n",
    "* [xpath](https://www.runoob.com/xpath/xpath-tutorial.html)\n",
    "* [CSS selector](https://www.runoob.com/css/css-id-class.html)\n",
    "\n",
    "试第一个和另一个，看看有什麽规律 (侦探活)\n",
    "Chrome Console下使用Javascript\n",
    "* xpath: \n",
    "```$x(\"放这\")```\n",
    "\n",
    "* CSS: \n",
    "``` $(\"放这\") ```\n",
    "\n",
    "-----\n",
    "\n",
    "\n",
    "# 项目0.B liepin 工作"
   ]
  },
  {
   "cell_type": "markdown",
   "metadata": {
    "slideshow": {
     "slide_type": "subslide"
    }
   },
   "source": [
    "##  Jupyter展示图魔法\n",
    "\n",
    "* Jupyter 可用的魔法之一 IPython 展示模块, HTML转码"
   ]
  },
  {
   "cell_type": "code",
   "execution_count": 3,
   "metadata": {
    "slideshow": {
     "slide_type": "fragment"
    }
   },
   "outputs": [
    {
     "data": {
      "text/html": [
       "<img src=\"https://httpstatusdogs.com/img/418.jpg\" alt=\"\">"
      ],
      "text/plain": [
       "<IPython.core.display.HTML object>"
      ]
     },
     "metadata": {},
     "output_type": "display_data"
    }
   ],
   "source": [
    "from IPython.core.display import display, HTML\n",
    "display(HTML('<img src=\"https://httpstatusdogs.com/img/418.jpg\" alt=\"\">'))"
   ]
  },
  {
   "cell_type": "markdown",
   "metadata": {
    "slideshow": {
     "slide_type": "slide"
    }
   },
   "source": [
    "###  展示图\n",
    "* Jupyter 可用的魔法之一 IPython 展示模块, HTML转码"
   ]
  },
  {
   "cell_type": "code",
   "execution_count": 4,
   "metadata": {
    "slideshow": {
     "slide_type": "fragment"
    }
   },
   "outputs": [
    {
     "data": {
      "text/markdown": [
       "![](https://httpstatusdogs.com/img/418.jpg)"
      ],
      "text/plain": [
       "<IPython.core.display.Markdown object>"
      ]
     },
     "metadata": {},
     "output_type": "display_data"
    }
   ],
   "source": [
    "from IPython.core.display import display, Markdown\n",
    "display(Markdown('![](https://httpstatusdogs.com/img/418.jpg)'))"
   ]
  },
  {
   "cell_type": "markdown",
   "metadata": {
    "slideshow": {
     "slide_type": "slide"
    }
   },
   "source": [
    "## 抓抓图片?\n",
    "[图片新闻_Bing](http://www.gov.cn/xinwen/tupian/index.htm)\n",
    "\n",
    "-----\n",
    "\n",
    "\n",
    "#  项目0.C 图片新闻"
   ]
  },
  {
   "cell_type": "code",
   "execution_count": 5,
   "metadata": {
    "slideshow": {
     "slide_type": "fragment"
    }
   },
   "outputs": [
    {
     "name": "stdout",
     "output_type": "stream",
     "text": [
      "data:image/png;base64,iVBORw0KGgoAAAANSUhEUgAAAAEAAAABCAQAAAC1HAwCAAAAC0lEQVR42mNgYAAAAAMAASsJTYQAAAAASUVORK5CYII=\n"
     ]
    },
    {
     "data": {
      "text/markdown": [
       "![](data:image/png;base64,iVBORw0KGgoAAAANSUhEUgAAAAEAAAABCAQAAAC1HAwCAAAAC0lEQVR42mNgYAAAAAMAASsJTYQAAAAASUVORK5CYII=)"
      ],
      "text/plain": [
       "<IPython.core.display.Markdown object>"
      ]
     },
     "metadata": {},
     "output_type": "display_data"
    },
    {
     "name": "stdout",
     "output_type": "stream",
     "text": [
      "https://tse1-mm.cn.bing.net/th/id/OET.bc70150f0a0f46e98b97ab7418544007?w=272&h=272&c=7&rs=1&o=5&pid=1.9\n"
     ]
    },
    {
     "data": {
      "text/markdown": [
       "![](https://tse1-mm.cn.bing.net/th/id/OET.bc70150f0a0f46e98b97ab7418544007?w=272&h=272&c=7&rs=1&o=5&pid=1.9)"
      ],
      "text/plain": [
       "<IPython.core.display.Markdown object>"
      ]
     },
     "metadata": {},
     "output_type": "display_data"
    },
    {
     "name": "stdout",
     "output_type": "stream",
     "text": [
      "https://tse1-mm.cn.bing.net/th/id/OET.6c67b92a90e642419f9d56226f0a1f25?w=272&h=135&c=7&rs=1&o=5&pid=1.9\n"
     ]
    },
    {
     "data": {
      "text/markdown": [
       "![](https://tse1-mm.cn.bing.net/th/id/OET.6c67b92a90e642419f9d56226f0a1f25?w=272&h=135&c=7&rs=1&o=5&pid=1.9)"
      ],
      "text/plain": [
       "<IPython.core.display.Markdown object>"
      ]
     },
     "metadata": {},
     "output_type": "display_data"
    },
    {
     "name": "stdout",
     "output_type": "stream",
     "text": [
      "https://tse1-mm.cn.bing.net/th/id/OET.e03c2838234f4cd1b3aa09541a208aab?w=272&h=135&c=7&rs=1&o=5&pid=1.9\n"
     ]
    },
    {
     "data": {
      "text/markdown": [
       "![](https://tse1-mm.cn.bing.net/th/id/OET.e03c2838234f4cd1b3aa09541a208aab?w=272&h=135&c=7&rs=1&o=5&pid=1.9)"
      ],
      "text/plain": [
       "<IPython.core.display.Markdown object>"
      ]
     },
     "metadata": {},
     "output_type": "display_data"
    },
    {
     "name": "stdout",
     "output_type": "stream",
     "text": [
      "https://tse1-mm.cn.bing.net/th/id/OET.843fba32bfe94c4085c86ca17dc7dcf1?w=272&h=135&c=7&rs=1&o=5&pid=1.9\n"
     ]
    },
    {
     "data": {
      "text/markdown": [
       "![](https://tse1-mm.cn.bing.net/th/id/OET.843fba32bfe94c4085c86ca17dc7dcf1?w=272&h=135&c=7&rs=1&o=5&pid=1.9)"
      ],
      "text/plain": [
       "<IPython.core.display.Markdown object>"
      ]
     },
     "metadata": {},
     "output_type": "display_data"
    },
    {
     "name": "stdout",
     "output_type": "stream",
     "text": [
      "https://tse1-mm.cn.bing.net/th/id/OET.c79e967af54b4bd2962ff5762873f19d?w=272&h=135&c=7&rs=1&o=5&pid=1.9\n"
     ]
    },
    {
     "data": {
      "text/markdown": [
       "![](https://tse1-mm.cn.bing.net/th/id/OET.c79e967af54b4bd2962ff5762873f19d?w=272&h=135&c=7&rs=1&o=5&pid=1.9)"
      ],
      "text/plain": [
       "<IPython.core.display.Markdown object>"
      ]
     },
     "metadata": {},
     "output_type": "display_data"
    },
    {
     "name": "stdout",
     "output_type": "stream",
     "text": [
      "https://tse1-mm.cn.bing.net/th/id/OET.114569a5ac5948839511c68dbb63138c?w=272&h=135&c=7&rs=1&o=5&pid=1.9\n"
     ]
    },
    {
     "data": {
      "text/markdown": [
       "![](https://tse1-mm.cn.bing.net/th/id/OET.114569a5ac5948839511c68dbb63138c?w=272&h=135&c=7&rs=1&o=5&pid=1.9)"
      ],
      "text/plain": [
       "<IPython.core.display.Markdown object>"
      ]
     },
     "metadata": {},
     "output_type": "display_data"
    },
    {
     "name": "stdout",
     "output_type": "stream",
     "text": [
      "https://tse1-mm.cn.bing.net/th/id/OET.af1cd8f22e12465fbc3a3710d5c49937?w=272&h=135&c=7&rs=1&o=5&pid=1.9\n"
     ]
    },
    {
     "data": {
      "text/markdown": [
       "![](https://tse1-mm.cn.bing.net/th/id/OET.af1cd8f22e12465fbc3a3710d5c49937?w=272&h=135&c=7&rs=1&o=5&pid=1.9)"
      ],
      "text/plain": [
       "<IPython.core.display.Markdown object>"
      ]
     },
     "metadata": {},
     "output_type": "display_data"
    },
    {
     "name": "stdout",
     "output_type": "stream",
     "text": [
      "https://tse1-mm.cn.bing.net/th/id/OET.c1db9a3ba2be4e009d47afb71ab3c20b?w=135&h=135&c=7&rs=1&o=5&pid=1.9\n"
     ]
    },
    {
     "data": {
      "text/markdown": [
       "![](https://tse1-mm.cn.bing.net/th/id/OET.c1db9a3ba2be4e009d47afb71ab3c20b?w=135&h=135&c=7&rs=1&o=5&pid=1.9)"
      ],
      "text/plain": [
       "<IPython.core.display.Markdown object>"
      ]
     },
     "metadata": {},
     "output_type": "display_data"
    },
    {
     "name": "stdout",
     "output_type": "stream",
     "text": [
      "https://tse1-mm.cn.bing.net/th/id/OET.e78b0b979bc74f59b809294edc34d10a?w=135&h=135&c=7&rs=1&o=5&pid=1.9\n"
     ]
    },
    {
     "data": {
      "text/markdown": [
       "![](https://tse1-mm.cn.bing.net/th/id/OET.e78b0b979bc74f59b809294edc34d10a?w=135&h=135&c=7&rs=1&o=5&pid=1.9)"
      ],
      "text/plain": [
       "<IPython.core.display.Markdown object>"
      ]
     },
     "metadata": {},
     "output_type": "display_data"
    },
    {
     "name": "stdout",
     "output_type": "stream",
     "text": [
      "https://tse1-mm.cn.bing.net/th/id/OET.249361366e2d43858acde0a77c5a1d4d?w=135&h=135&c=7&rs=1&o=5&pid=1.9\n"
     ]
    },
    {
     "data": {
      "text/markdown": [
       "![](https://tse1-mm.cn.bing.net/th/id/OET.249361366e2d43858acde0a77c5a1d4d?w=135&h=135&c=7&rs=1&o=5&pid=1.9)"
      ],
      "text/plain": [
       "<IPython.core.display.Markdown object>"
      ]
     },
     "metadata": {},
     "output_type": "display_data"
    },
    {
     "name": "stdout",
     "output_type": "stream",
     "text": [
      "https://tse1-mm.cn.bing.net/th/id/OET.21a0caa8b95c4b479180e20814e190e4?w=135&h=135&c=7&rs=1&o=5&pid=1.9\n"
     ]
    },
    {
     "data": {
      "text/markdown": [
       "![](https://tse1-mm.cn.bing.net/th/id/OET.21a0caa8b95c4b479180e20814e190e4?w=135&h=135&c=7&rs=1&o=5&pid=1.9)"
      ],
      "text/plain": [
       "<IPython.core.display.Markdown object>"
      ]
     },
     "metadata": {},
     "output_type": "display_data"
    },
    {
     "name": "stdout",
     "output_type": "stream",
     "text": [
      "https://tse1-mm.cn.bing.net/th/id/OET.0c62c79ee15146caa94830cbffe68a15?w=272&h=272&c=7&rs=1&o=5&pid=1.9\n"
     ]
    },
    {
     "data": {
      "text/markdown": [
       "![](https://tse1-mm.cn.bing.net/th/id/OET.0c62c79ee15146caa94830cbffe68a15?w=272&h=272&c=7&rs=1&o=5&pid=1.9)"
      ],
      "text/plain": [
       "<IPython.core.display.Markdown object>"
      ]
     },
     "metadata": {},
     "output_type": "display_data"
    },
    {
     "name": "stdout",
     "output_type": "stream",
     "text": [
      "https://tse1-mm.cn.bing.net/th/id/OET.91319928824a4a619e21ed4bb785c006?w=135&h=272&c=7&rs=1&o=5&pid=1.9\n"
     ]
    },
    {
     "data": {
      "text/markdown": [
       "![](https://tse1-mm.cn.bing.net/th/id/OET.91319928824a4a619e21ed4bb785c006?w=135&h=272&c=7&rs=1&o=5&pid=1.9)"
      ],
      "text/plain": [
       "<IPython.core.display.Markdown object>"
      ]
     },
     "metadata": {},
     "output_type": "display_data"
    },
    {
     "name": "stdout",
     "output_type": "stream",
     "text": [
      "https://tse1-mm.cn.bing.net/th/id/OET.269a1c8ab83f419db21f1447477f9d4d?w=135&h=272&c=7&rs=1&o=5&pid=1.9\n"
     ]
    },
    {
     "data": {
      "text/markdown": [
       "![](https://tse1-mm.cn.bing.net/th/id/OET.269a1c8ab83f419db21f1447477f9d4d?w=135&h=272&c=7&rs=1&o=5&pid=1.9)"
      ],
      "text/plain": [
       "<IPython.core.display.Markdown object>"
      ]
     },
     "metadata": {},
     "output_type": "display_data"
    },
    {
     "name": "stdout",
     "output_type": "stream",
     "text": [
      "https://tse1-mm.cn.bing.net/th/id/OET.e7020eeba24a423d9694f2874de81238?w=135&h=272&c=7&rs=1&o=5&pid=1.9\n"
     ]
    },
    {
     "data": {
      "text/markdown": [
       "![](https://tse1-mm.cn.bing.net/th/id/OET.e7020eeba24a423d9694f2874de81238?w=135&h=272&c=7&rs=1&o=5&pid=1.9)"
      ],
      "text/plain": [
       "<IPython.core.display.Markdown object>"
      ]
     },
     "metadata": {},
     "output_type": "display_data"
    },
    {
     "name": "stdout",
     "output_type": "stream",
     "text": [
      "https://tse1-mm.cn.bing.net/th/id/OET.569ec4dfca424c539a920eb5c8f9103e?w=135&h=272&c=7&rs=1&o=5&pid=1.9\n"
     ]
    },
    {
     "data": {
      "text/markdown": [
       "![](https://tse1-mm.cn.bing.net/th/id/OET.569ec4dfca424c539a920eb5c8f9103e?w=135&h=272&c=7&rs=1&o=5&pid=1.9)"
      ],
      "text/plain": [
       "<IPython.core.display.Markdown object>"
      ]
     },
     "metadata": {},
     "output_type": "display_data"
    },
    {
     "name": "stdout",
     "output_type": "stream",
     "text": [
      "https://tse1-mm.cn.bing.net/th/id/OET.d78d1790f0d54d0697f6cf01571d8c5d?w=135&h=272&c=7&rs=1&o=5&pid=1.9\n"
     ]
    },
    {
     "data": {
      "text/markdown": [
       "![](https://tse1-mm.cn.bing.net/th/id/OET.d78d1790f0d54d0697f6cf01571d8c5d?w=135&h=272&c=7&rs=1&o=5&pid=1.9)"
      ],
      "text/plain": [
       "<IPython.core.display.Markdown object>"
      ]
     },
     "metadata": {},
     "output_type": "display_data"
    },
    {
     "name": "stdout",
     "output_type": "stream",
     "text": [
      "https://tse1-mm.cn.bing.net/th/id/OET.0cb8103b50f644f7803116f3f3afbe19?w=135&h=272&c=7&rs=1&o=5&pid=1.9\n"
     ]
    },
    {
     "data": {
      "text/markdown": [
       "![](https://tse1-mm.cn.bing.net/th/id/OET.0cb8103b50f644f7803116f3f3afbe19?w=135&h=272&c=7&rs=1&o=5&pid=1.9)"
      ],
      "text/plain": [
       "<IPython.core.display.Markdown object>"
      ]
     },
     "metadata": {},
     "output_type": "display_data"
    },
    {
     "name": "stdout",
     "output_type": "stream",
     "text": [
      "https://tse1-mm.cn.bing.net/th/id/OET.15ebe1689a5e49148b32625ce7dfc3e7?w=135&h=135&c=7&rs=1&o=5&pid=1.9\n"
     ]
    },
    {
     "data": {
      "text/markdown": [
       "![](https://tse1-mm.cn.bing.net/th/id/OET.15ebe1689a5e49148b32625ce7dfc3e7?w=135&h=135&c=7&rs=1&o=5&pid=1.9)"
      ],
      "text/plain": [
       "<IPython.core.display.Markdown object>"
      ]
     },
     "metadata": {},
     "output_type": "display_data"
    },
    {
     "name": "stdout",
     "output_type": "stream",
     "text": [
      "https://tse1-mm.cn.bing.net/th/id/OET.9232ec87d1b44164b89cc86bceda2f89?w=135&h=135&c=7&rs=1&o=5&pid=1.9\n"
     ]
    },
    {
     "data": {
      "text/markdown": [
       "![](https://tse1-mm.cn.bing.net/th/id/OET.9232ec87d1b44164b89cc86bceda2f89?w=135&h=135&c=7&rs=1&o=5&pid=1.9)"
      ],
      "text/plain": [
       "<IPython.core.display.Markdown object>"
      ]
     },
     "metadata": {},
     "output_type": "display_data"
    },
    {
     "name": "stdout",
     "output_type": "stream",
     "text": [
      "https://tse1-mm.cn.bing.net/th/id/OET.84f864f390bc4c4da7a24442518e24d4?w=135&h=135&c=7&rs=1&o=5&pid=1.9\n"
     ]
    },
    {
     "data": {
      "text/markdown": [
       "![](https://tse1-mm.cn.bing.net/th/id/OET.84f864f390bc4c4da7a24442518e24d4?w=135&h=135&c=7&rs=1&o=5&pid=1.9)"
      ],
      "text/plain": [
       "<IPython.core.display.Markdown object>"
      ]
     },
     "metadata": {},
     "output_type": "display_data"
    },
    {
     "name": "stdout",
     "output_type": "stream",
     "text": [
      "https://tse1-mm.cn.bing.net/th/id/OET.8d985aa5d30644b38716ac203eaecf32?w=135&h=135&c=7&rs=1&o=5&pid=1.9\n"
     ]
    },
    {
     "data": {
      "text/markdown": [
       "![](https://tse1-mm.cn.bing.net/th/id/OET.8d985aa5d30644b38716ac203eaecf32?w=135&h=135&c=7&rs=1&o=5&pid=1.9)"
      ],
      "text/plain": [
       "<IPython.core.display.Markdown object>"
      ]
     },
     "metadata": {},
     "output_type": "display_data"
    },
    {
     "name": "stdout",
     "output_type": "stream",
     "text": [
      "https://tse1-mm.cn.bing.net/th/id/OET.94ec66594fbc486ea4a80fcf46a94a43?w=272&h=272&c=7&rs=1&o=5&pid=1.9\n"
     ]
    },
    {
     "data": {
      "text/markdown": [
       "![](https://tse1-mm.cn.bing.net/th/id/OET.94ec66594fbc486ea4a80fcf46a94a43?w=272&h=272&c=7&rs=1&o=5&pid=1.9)"
      ],
      "text/plain": [
       "<IPython.core.display.Markdown object>"
      ]
     },
     "metadata": {},
     "output_type": "display_data"
    },
    {
     "name": "stdout",
     "output_type": "stream",
     "text": [
      "https://tse1-mm.cn.bing.net/th/id/OET.ce8e35cf44254cc1937d3599379a8d2c?w=135&h=272&c=7&rs=1&o=5&pid=1.9\n"
     ]
    },
    {
     "data": {
      "text/markdown": [
       "![](https://tse1-mm.cn.bing.net/th/id/OET.ce8e35cf44254cc1937d3599379a8d2c?w=135&h=272&c=7&rs=1&o=5&pid=1.9)"
      ],
      "text/plain": [
       "<IPython.core.display.Markdown object>"
      ]
     },
     "metadata": {},
     "output_type": "display_data"
    },
    {
     "name": "stdout",
     "output_type": "stream",
     "text": [
      "https://tse1-mm.cn.bing.net/th/id/OET.9c7eaa350b1b47f6bd2eaaf62e5a186d?w=135&h=272&c=7&rs=1&o=5&pid=1.9\n"
     ]
    },
    {
     "data": {
      "text/markdown": [
       "![](https://tse1-mm.cn.bing.net/th/id/OET.9c7eaa350b1b47f6bd2eaaf62e5a186d?w=135&h=272&c=7&rs=1&o=5&pid=1.9)"
      ],
      "text/plain": [
       "<IPython.core.display.Markdown object>"
      ]
     },
     "metadata": {},
     "output_type": "display_data"
    },
    {
     "name": "stdout",
     "output_type": "stream",
     "text": [
      "https://tse1-mm.cn.bing.net/th/id/OET.4d85185c1c38460a99da2ecaa594b66e?w=135&h=272&c=7&rs=1&o=5&pid=1.9\n"
     ]
    },
    {
     "data": {
      "text/markdown": [
       "![](https://tse1-mm.cn.bing.net/th/id/OET.4d85185c1c38460a99da2ecaa594b66e?w=135&h=272&c=7&rs=1&o=5&pid=1.9)"
      ],
      "text/plain": [
       "<IPython.core.display.Markdown object>"
      ]
     },
     "metadata": {},
     "output_type": "display_data"
    },
    {
     "name": "stdout",
     "output_type": "stream",
     "text": [
      "https://tse1-mm.cn.bing.net/th/id/OET.b48c7915bd5c4e4ba4ca09d71f79757c?w=135&h=272&c=7&rs=1&o=5&pid=1.9\n"
     ]
    },
    {
     "data": {
      "text/markdown": [
       "![](https://tse1-mm.cn.bing.net/th/id/OET.b48c7915bd5c4e4ba4ca09d71f79757c?w=135&h=272&c=7&rs=1&o=5&pid=1.9)"
      ],
      "text/plain": [
       "<IPython.core.display.Markdown object>"
      ]
     },
     "metadata": {},
     "output_type": "display_data"
    },
    {
     "name": "stdout",
     "output_type": "stream",
     "text": [
      "https://tse1-mm.cn.bing.net/th/id/OET.fa5f3e5bd55f44f9b0f85f0271fa58bd?w=135&h=272&c=7&rs=1&o=5&pid=1.9\n"
     ]
    },
    {
     "data": {
      "text/markdown": [
       "![](https://tse1-mm.cn.bing.net/th/id/OET.fa5f3e5bd55f44f9b0f85f0271fa58bd?w=135&h=272&c=7&rs=1&o=5&pid=1.9)"
      ],
      "text/plain": [
       "<IPython.core.display.Markdown object>"
      ]
     },
     "metadata": {},
     "output_type": "display_data"
    },
    {
     "name": "stdout",
     "output_type": "stream",
     "text": [
      "https://tse1-mm.cn.bing.net/th/id/OET.d55a3d45e7c8436ea982b946e014cbdf?w=135&h=272&c=7&rs=1&o=5&pid=1.9\n"
     ]
    },
    {
     "data": {
      "text/markdown": [
       "![](https://tse1-mm.cn.bing.net/th/id/OET.d55a3d45e7c8436ea982b946e014cbdf?w=135&h=272&c=7&rs=1&o=5&pid=1.9)"
      ],
      "text/plain": [
       "<IPython.core.display.Markdown object>"
      ]
     },
     "metadata": {},
     "output_type": "display_data"
    },
    {
     "name": "stdout",
     "output_type": "stream",
     "text": [
      "https://tse1-mm.cn.bing.net/th/id/OET.126389af6ec542d783dd0b987f3f5535?w=135&h=135&c=7&rs=1&o=5&pid=1.9\n"
     ]
    },
    {
     "data": {
      "text/markdown": [
       "![](https://tse1-mm.cn.bing.net/th/id/OET.126389af6ec542d783dd0b987f3f5535?w=135&h=135&c=7&rs=1&o=5&pid=1.9)"
      ],
      "text/plain": [
       "<IPython.core.display.Markdown object>"
      ]
     },
     "metadata": {},
     "output_type": "display_data"
    },
    {
     "name": "stdout",
     "output_type": "stream",
     "text": [
      "https://tse1-mm.cn.bing.net/th/id/OET.e47575bfe7e04cb58e1145d0dd8bf661?w=135&h=135&c=7&rs=1&o=5&pid=1.9\n"
     ]
    },
    {
     "data": {
      "text/markdown": [
       "![](https://tse1-mm.cn.bing.net/th/id/OET.e47575bfe7e04cb58e1145d0dd8bf661?w=135&h=135&c=7&rs=1&o=5&pid=1.9)"
      ],
      "text/plain": [
       "<IPython.core.display.Markdown object>"
      ]
     },
     "metadata": {},
     "output_type": "display_data"
    },
    {
     "name": "stdout",
     "output_type": "stream",
     "text": [
      "https://tse1-mm.cn.bing.net/th/id/OET.443f23182e1b4a39bba6b5addd0a0a9e?w=135&h=135&c=7&rs=1&o=5&pid=1.9\n"
     ]
    },
    {
     "data": {
      "text/markdown": [
       "![](https://tse1-mm.cn.bing.net/th/id/OET.443f23182e1b4a39bba6b5addd0a0a9e?w=135&h=135&c=7&rs=1&o=5&pid=1.9)"
      ],
      "text/plain": [
       "<IPython.core.display.Markdown object>"
      ]
     },
     "metadata": {},
     "output_type": "display_data"
    },
    {
     "name": "stdout",
     "output_type": "stream",
     "text": [
      "https://tse1-mm.cn.bing.net/th/id/OET.9bfc3c7a14934163a44268a2f93839d8?w=135&h=135&c=7&rs=1&o=5&pid=1.9\n"
     ]
    },
    {
     "data": {
      "text/markdown": [
       "![](https://tse1-mm.cn.bing.net/th/id/OET.9bfc3c7a14934163a44268a2f93839d8?w=135&h=135&c=7&rs=1&o=5&pid=1.9)"
      ],
      "text/plain": [
       "<IPython.core.display.Markdown object>"
      ]
     },
     "metadata": {},
     "output_type": "display_data"
    },
    {
     "name": "stdout",
     "output_type": "stream",
     "text": [
      "https://tse1-mm.cn.bing.net/th/id/OET.efe3f9fc7f784df3824c2c4f6e05e77f?w=272&h=272&c=7&rs=1&o=5&pid=1.9\n"
     ]
    },
    {
     "data": {
      "text/markdown": [
       "![](https://tse1-mm.cn.bing.net/th/id/OET.efe3f9fc7f784df3824c2c4f6e05e77f?w=272&h=272&c=7&rs=1&o=5&pid=1.9)"
      ],
      "text/plain": [
       "<IPython.core.display.Markdown object>"
      ]
     },
     "metadata": {},
     "output_type": "display_data"
    },
    {
     "name": "stdout",
     "output_type": "stream",
     "text": [
      "https://tse1-mm.cn.bing.net/th/id/OET.b795a280749f48ca95a9dea4163cdb3c?w=272&h=135&c=7&rs=1&o=5&pid=1.9\n"
     ]
    },
    {
     "data": {
      "text/markdown": [
       "![](https://tse1-mm.cn.bing.net/th/id/OET.b795a280749f48ca95a9dea4163cdb3c?w=272&h=135&c=7&rs=1&o=5&pid=1.9)"
      ],
      "text/plain": [
       "<IPython.core.display.Markdown object>"
      ]
     },
     "metadata": {},
     "output_type": "display_data"
    },
    {
     "name": "stdout",
     "output_type": "stream",
     "text": [
      "https://tse1-mm.cn.bing.net/th/id/OET.4dc363ac1e1b4b6e996aee01aada03c0?w=272&h=135&c=7&rs=1&o=5&pid=1.9\n"
     ]
    },
    {
     "data": {
      "text/markdown": [
       "![](https://tse1-mm.cn.bing.net/th/id/OET.4dc363ac1e1b4b6e996aee01aada03c0?w=272&h=135&c=7&rs=1&o=5&pid=1.9)"
      ],
      "text/plain": [
       "<IPython.core.display.Markdown object>"
      ]
     },
     "metadata": {},
     "output_type": "display_data"
    },
    {
     "name": "stdout",
     "output_type": "stream",
     "text": [
      "https://tse1-mm.cn.bing.net/th/id/OET.009d7b6a10864f5895dd227b8b6aca5a?w=272&h=135&c=7&rs=1&o=5&pid=1.9\n"
     ]
    },
    {
     "data": {
      "text/markdown": [
       "![](https://tse1-mm.cn.bing.net/th/id/OET.009d7b6a10864f5895dd227b8b6aca5a?w=272&h=135&c=7&rs=1&o=5&pid=1.9)"
      ],
      "text/plain": [
       "<IPython.core.display.Markdown object>"
      ]
     },
     "metadata": {},
     "output_type": "display_data"
    },
    {
     "name": "stdout",
     "output_type": "stream",
     "text": [
      "https://tse1-mm.cn.bing.net/th/id/OET.4a23232f3da340bbbcea184defa95785?w=272&h=135&c=7&rs=1&o=5&pid=1.9\n"
     ]
    },
    {
     "data": {
      "text/markdown": [
       "![](https://tse1-mm.cn.bing.net/th/id/OET.4a23232f3da340bbbcea184defa95785?w=272&h=135&c=7&rs=1&o=5&pid=1.9)"
      ],
      "text/plain": [
       "<IPython.core.display.Markdown object>"
      ]
     },
     "metadata": {},
     "output_type": "display_data"
    },
    {
     "name": "stdout",
     "output_type": "stream",
     "text": [
      "https://tse1-mm.cn.bing.net/th/id/OET.33c7e256696349ab8261e9a8af156ac7?w=272&h=135&c=7&rs=1&o=5&pid=1.9\n"
     ]
    },
    {
     "data": {
      "text/markdown": [
       "![](https://tse1-mm.cn.bing.net/th/id/OET.33c7e256696349ab8261e9a8af156ac7?w=272&h=135&c=7&rs=1&o=5&pid=1.9)"
      ],
      "text/plain": [
       "<IPython.core.display.Markdown object>"
      ]
     },
     "metadata": {},
     "output_type": "display_data"
    },
    {
     "name": "stdout",
     "output_type": "stream",
     "text": [
      "https://tse1-mm.cn.bing.net/th/id/OET.07125a24199f49aca5c46ba40c130f86?w=272&h=135&c=7&rs=1&o=5&pid=1.9\n"
     ]
    },
    {
     "data": {
      "text/markdown": [
       "![](https://tse1-mm.cn.bing.net/th/id/OET.07125a24199f49aca5c46ba40c130f86?w=272&h=135&c=7&rs=1&o=5&pid=1.9)"
      ],
      "text/plain": [
       "<IPython.core.display.Markdown object>"
      ]
     },
     "metadata": {},
     "output_type": "display_data"
    },
    {
     "name": "stdout",
     "output_type": "stream",
     "text": [
      "https://tse1-mm.cn.bing.net/th/id/OET.e6e9bf3521a9440d80883ad9b303517b?w=135&h=135&c=7&rs=1&o=5&pid=1.9\n"
     ]
    },
    {
     "data": {
      "text/markdown": [
       "![](https://tse1-mm.cn.bing.net/th/id/OET.e6e9bf3521a9440d80883ad9b303517b?w=135&h=135&c=7&rs=1&o=5&pid=1.9)"
      ],
      "text/plain": [
       "<IPython.core.display.Markdown object>"
      ]
     },
     "metadata": {},
     "output_type": "display_data"
    },
    {
     "name": "stdout",
     "output_type": "stream",
     "text": [
      "https://tse1-mm.cn.bing.net/th/id/OET.fae29efc4ff648029f1ef70585843e62?w=135&h=135&c=7&rs=1&o=5&pid=1.9\n"
     ]
    },
    {
     "data": {
      "text/markdown": [
       "![](https://tse1-mm.cn.bing.net/th/id/OET.fae29efc4ff648029f1ef70585843e62?w=135&h=135&c=7&rs=1&o=5&pid=1.9)"
      ],
      "text/plain": [
       "<IPython.core.display.Markdown object>"
      ]
     },
     "metadata": {},
     "output_type": "display_data"
    },
    {
     "name": "stdout",
     "output_type": "stream",
     "text": [
      "https://tse1-mm.cn.bing.net/th/id/OET.2d20012bbff14d7b9b2fb9b386fba7d7?w=135&h=135&c=7&rs=1&o=5&pid=1.9\n"
     ]
    },
    {
     "data": {
      "text/markdown": [
       "![](https://tse1-mm.cn.bing.net/th/id/OET.2d20012bbff14d7b9b2fb9b386fba7d7?w=135&h=135&c=7&rs=1&o=5&pid=1.9)"
      ],
      "text/plain": [
       "<IPython.core.display.Markdown object>"
      ]
     },
     "metadata": {},
     "output_type": "display_data"
    },
    {
     "name": "stdout",
     "output_type": "stream",
     "text": [
      "https://tse1-mm.cn.bing.net/th/id/OET.22eceb574e414031bec812c28ead4b0d?w=135&h=135&c=7&rs=1&o=5&pid=1.9\n"
     ]
    },
    {
     "data": {
      "text/markdown": [
       "![](https://tse1-mm.cn.bing.net/th/id/OET.22eceb574e414031bec812c28ead4b0d?w=135&h=135&c=7&rs=1&o=5&pid=1.9)"
      ],
      "text/plain": [
       "<IPython.core.display.Markdown object>"
      ]
     },
     "metadata": {},
     "output_type": "display_data"
    },
    {
     "name": "stdout",
     "output_type": "stream",
     "text": [
      "https://tse1-mm.cn.bing.net/th/id/OET.1ec0493ebfc0451983e24ef7afab32cc?w=272&h=272&c=7&rs=1&o=5&pid=1.9\n"
     ]
    },
    {
     "data": {
      "text/markdown": [
       "![](https://tse1-mm.cn.bing.net/th/id/OET.1ec0493ebfc0451983e24ef7afab32cc?w=272&h=272&c=7&rs=1&o=5&pid=1.9)"
      ],
      "text/plain": [
       "<IPython.core.display.Markdown object>"
      ]
     },
     "metadata": {},
     "output_type": "display_data"
    },
    {
     "name": "stdout",
     "output_type": "stream",
     "text": [
      "https://tse1-mm.cn.bing.net/th/id/OET.1ca1d0f4d5af42f09decbe20d9258e08?w=272&h=135&c=7&rs=1&o=5&pid=1.9\n"
     ]
    },
    {
     "data": {
      "text/markdown": [
       "![](https://tse1-mm.cn.bing.net/th/id/OET.1ca1d0f4d5af42f09decbe20d9258e08?w=272&h=135&c=7&rs=1&o=5&pid=1.9)"
      ],
      "text/plain": [
       "<IPython.core.display.Markdown object>"
      ]
     },
     "metadata": {},
     "output_type": "display_data"
    },
    {
     "name": "stdout",
     "output_type": "stream",
     "text": [
      "https://tse1-mm.cn.bing.net/th/id/OET.ac36515ef40d41ce872ad24873b2b01e?w=272&h=135&c=7&rs=1&o=5&pid=1.9\n"
     ]
    },
    {
     "data": {
      "text/markdown": [
       "![](https://tse1-mm.cn.bing.net/th/id/OET.ac36515ef40d41ce872ad24873b2b01e?w=272&h=135&c=7&rs=1&o=5&pid=1.9)"
      ],
      "text/plain": [
       "<IPython.core.display.Markdown object>"
      ]
     },
     "metadata": {},
     "output_type": "display_data"
    },
    {
     "name": "stdout",
     "output_type": "stream",
     "text": [
      "https://tse1-mm.cn.bing.net/th/id/OET.191598f3fd704b93a141faa025145673?w=272&h=135&c=7&rs=1&o=5&pid=1.9\n"
     ]
    },
    {
     "data": {
      "text/markdown": [
       "![](https://tse1-mm.cn.bing.net/th/id/OET.191598f3fd704b93a141faa025145673?w=272&h=135&c=7&rs=1&o=5&pid=1.9)"
      ],
      "text/plain": [
       "<IPython.core.display.Markdown object>"
      ]
     },
     "metadata": {},
     "output_type": "display_data"
    },
    {
     "name": "stdout",
     "output_type": "stream",
     "text": [
      "https://tse1-mm.cn.bing.net/th/id/OET.eff35fefece14bc999ae04aa7c012c2c?w=272&h=135&c=7&rs=1&o=5&pid=1.9\n"
     ]
    },
    {
     "data": {
      "text/markdown": [
       "![](https://tse1-mm.cn.bing.net/th/id/OET.eff35fefece14bc999ae04aa7c012c2c?w=272&h=135&c=7&rs=1&o=5&pid=1.9)"
      ],
      "text/plain": [
       "<IPython.core.display.Markdown object>"
      ]
     },
     "metadata": {},
     "output_type": "display_data"
    },
    {
     "name": "stdout",
     "output_type": "stream",
     "text": [
      "https://tse1-mm.cn.bing.net/th/id/OET.5354bdc5fb5143968c7b8dcda370919e?w=272&h=135&c=7&rs=1&o=5&pid=1.9\n"
     ]
    },
    {
     "data": {
      "text/markdown": [
       "![](https://tse1-mm.cn.bing.net/th/id/OET.5354bdc5fb5143968c7b8dcda370919e?w=272&h=135&c=7&rs=1&o=5&pid=1.9)"
      ],
      "text/plain": [
       "<IPython.core.display.Markdown object>"
      ]
     },
     "metadata": {},
     "output_type": "display_data"
    },
    {
     "name": "stdout",
     "output_type": "stream",
     "text": [
      "https://tse1-mm.cn.bing.net/th/id/OET.0c681e62143e49929c2f44e30ab61b90?w=272&h=135&c=7&rs=1&o=5&pid=1.9\n"
     ]
    },
    {
     "data": {
      "text/markdown": [
       "![](https://tse1-mm.cn.bing.net/th/id/OET.0c681e62143e49929c2f44e30ab61b90?w=272&h=135&c=7&rs=1&o=5&pid=1.9)"
      ],
      "text/plain": [
       "<IPython.core.display.Markdown object>"
      ]
     },
     "metadata": {},
     "output_type": "display_data"
    },
    {
     "name": "stdout",
     "output_type": "stream",
     "text": [
      "https://tse1-mm.cn.bing.net/th/id/OET.738c80cb3daa48e79b6f29f100ec42ed?w=135&h=135&c=7&rs=1&o=5&pid=1.9\n"
     ]
    },
    {
     "data": {
      "text/markdown": [
       "![](https://tse1-mm.cn.bing.net/th/id/OET.738c80cb3daa48e79b6f29f100ec42ed?w=135&h=135&c=7&rs=1&o=5&pid=1.9)"
      ],
      "text/plain": [
       "<IPython.core.display.Markdown object>"
      ]
     },
     "metadata": {},
     "output_type": "display_data"
    },
    {
     "name": "stdout",
     "output_type": "stream",
     "text": [
      "https://tse1-mm.cn.bing.net/th/id/OET.8ec6c4aee5194b0a896db5ef3191afab?w=135&h=135&c=7&rs=1&o=5&pid=1.9\n"
     ]
    },
    {
     "data": {
      "text/markdown": [
       "![](https://tse1-mm.cn.bing.net/th/id/OET.8ec6c4aee5194b0a896db5ef3191afab?w=135&h=135&c=7&rs=1&o=5&pid=1.9)"
      ],
      "text/plain": [
       "<IPython.core.display.Markdown object>"
      ]
     },
     "metadata": {},
     "output_type": "display_data"
    },
    {
     "name": "stdout",
     "output_type": "stream",
     "text": [
      "https://tse1-mm.cn.bing.net/th/id/OET.7706e7f7221949bcb5f237c4fbfb7bc2?w=135&h=135&c=7&rs=1&o=5&pid=1.9\n"
     ]
    },
    {
     "data": {
      "text/markdown": [
       "![](https://tse1-mm.cn.bing.net/th/id/OET.7706e7f7221949bcb5f237c4fbfb7bc2?w=135&h=135&c=7&rs=1&o=5&pid=1.9)"
      ],
      "text/plain": [
       "<IPython.core.display.Markdown object>"
      ]
     },
     "metadata": {},
     "output_type": "display_data"
    },
    {
     "name": "stdout",
     "output_type": "stream",
     "text": [
      "https://tse1-mm.cn.bing.net/th/id/OET.78ff3df35c654a4b913b297134bd63e0?w=135&h=135&c=7&rs=1&o=5&pid=1.9\n"
     ]
    },
    {
     "data": {
      "text/markdown": [
       "![](https://tse1-mm.cn.bing.net/th/id/OET.78ff3df35c654a4b913b297134bd63e0?w=135&h=135&c=7&rs=1&o=5&pid=1.9)"
      ],
      "text/plain": [
       "<IPython.core.display.Markdown object>"
      ]
     },
     "metadata": {},
     "output_type": "display_data"
    },
    {
     "name": "stdout",
     "output_type": "stream",
     "text": [
      "https://tse1-mm.cn.bing.net/th/id/OET.409ef668387749e4af68a0dfce45c983?w=272&h=272&c=7&rs=1&o=5&pid=1.9\n"
     ]
    },
    {
     "data": {
      "text/markdown": [
       "![](https://tse1-mm.cn.bing.net/th/id/OET.409ef668387749e4af68a0dfce45c983?w=272&h=272&c=7&rs=1&o=5&pid=1.9)"
      ],
      "text/plain": [
       "<IPython.core.display.Markdown object>"
      ]
     },
     "metadata": {},
     "output_type": "display_data"
    },
    {
     "name": "stdout",
     "output_type": "stream",
     "text": [
      "https://tse1-mm.cn.bing.net/th/id/OET.9ad45a55f5ac4133909b7cf15cc36fde?w=272&h=135&c=7&rs=1&o=5&pid=1.9\n"
     ]
    },
    {
     "data": {
      "text/markdown": [
       "![](https://tse1-mm.cn.bing.net/th/id/OET.9ad45a55f5ac4133909b7cf15cc36fde?w=272&h=135&c=7&rs=1&o=5&pid=1.9)"
      ],
      "text/plain": [
       "<IPython.core.display.Markdown object>"
      ]
     },
     "metadata": {},
     "output_type": "display_data"
    },
    {
     "name": "stdout",
     "output_type": "stream",
     "text": [
      "https://tse1-mm.cn.bing.net/th/id/OET.ae179eedbe6e425484b14c8978fa4079?w=272&h=135&c=7&rs=1&o=5&pid=1.9\n"
     ]
    },
    {
     "data": {
      "text/markdown": [
       "![](https://tse1-mm.cn.bing.net/th/id/OET.ae179eedbe6e425484b14c8978fa4079?w=272&h=135&c=7&rs=1&o=5&pid=1.9)"
      ],
      "text/plain": [
       "<IPython.core.display.Markdown object>"
      ]
     },
     "metadata": {},
     "output_type": "display_data"
    },
    {
     "name": "stdout",
     "output_type": "stream",
     "text": [
      "https://tse1-mm.cn.bing.net/th/id/OET.164bf99f079a41c69d9fa0c349fa825f?w=272&h=135&c=7&rs=1&o=5&pid=1.9\n"
     ]
    },
    {
     "data": {
      "text/markdown": [
       "![](https://tse1-mm.cn.bing.net/th/id/OET.164bf99f079a41c69d9fa0c349fa825f?w=272&h=135&c=7&rs=1&o=5&pid=1.9)"
      ],
      "text/plain": [
       "<IPython.core.display.Markdown object>"
      ]
     },
     "metadata": {},
     "output_type": "display_data"
    },
    {
     "name": "stdout",
     "output_type": "stream",
     "text": [
      "https://tse1-mm.cn.bing.net/th/id/OET.9fb2529795ce419bb3f96a701a0edb36?w=272&h=135&c=7&rs=1&o=5&pid=1.9\n"
     ]
    },
    {
     "data": {
      "text/markdown": [
       "![](https://tse1-mm.cn.bing.net/th/id/OET.9fb2529795ce419bb3f96a701a0edb36?w=272&h=135&c=7&rs=1&o=5&pid=1.9)"
      ],
      "text/plain": [
       "<IPython.core.display.Markdown object>"
      ]
     },
     "metadata": {},
     "output_type": "display_data"
    },
    {
     "name": "stdout",
     "output_type": "stream",
     "text": [
      "https://tse1-mm.cn.bing.net/th/id/OET.3e3a5b91f801498984228dcc9ba6b743?w=272&h=135&c=7&rs=1&o=5&pid=1.9\n"
     ]
    },
    {
     "data": {
      "text/markdown": [
       "![](https://tse1-mm.cn.bing.net/th/id/OET.3e3a5b91f801498984228dcc9ba6b743?w=272&h=135&c=7&rs=1&o=5&pid=1.9)"
      ],
      "text/plain": [
       "<IPython.core.display.Markdown object>"
      ]
     },
     "metadata": {},
     "output_type": "display_data"
    },
    {
     "name": "stdout",
     "output_type": "stream",
     "text": [
      "https://tse1-mm.cn.bing.net/th/id/OET.81582f824b024116a5b7a91c185f968e?w=272&h=135&c=7&rs=1&o=5&pid=1.9\n"
     ]
    },
    {
     "data": {
      "text/markdown": [
       "![](https://tse1-mm.cn.bing.net/th/id/OET.81582f824b024116a5b7a91c185f968e?w=272&h=135&c=7&rs=1&o=5&pid=1.9)"
      ],
      "text/plain": [
       "<IPython.core.display.Markdown object>"
      ]
     },
     "metadata": {},
     "output_type": "display_data"
    },
    {
     "name": "stdout",
     "output_type": "stream",
     "text": [
      "https://tse1-mm.cn.bing.net/th/id/OET.e255cd1d563846faa4b1551556a2b85d?w=135&h=135&c=7&rs=1&o=5&pid=1.9\n"
     ]
    },
    {
     "data": {
      "text/markdown": [
       "![](https://tse1-mm.cn.bing.net/th/id/OET.e255cd1d563846faa4b1551556a2b85d?w=135&h=135&c=7&rs=1&o=5&pid=1.9)"
      ],
      "text/plain": [
       "<IPython.core.display.Markdown object>"
      ]
     },
     "metadata": {},
     "output_type": "display_data"
    },
    {
     "name": "stdout",
     "output_type": "stream",
     "text": [
      "https://tse1-mm.cn.bing.net/th/id/OET.6a0f85e050a54119a65ebecacd4d203a?w=135&h=135&c=7&rs=1&o=5&pid=1.9\n"
     ]
    },
    {
     "data": {
      "text/markdown": [
       "![](https://tse1-mm.cn.bing.net/th/id/OET.6a0f85e050a54119a65ebecacd4d203a?w=135&h=135&c=7&rs=1&o=5&pid=1.9)"
      ],
      "text/plain": [
       "<IPython.core.display.Markdown object>"
      ]
     },
     "metadata": {},
     "output_type": "display_data"
    },
    {
     "name": "stdout",
     "output_type": "stream",
     "text": [
      "https://tse1-mm.cn.bing.net/th/id/OET.2a67a683253746ae8f1062188c0d0c49?w=135&h=135&c=7&rs=1&o=5&pid=1.9\n"
     ]
    },
    {
     "data": {
      "text/markdown": [
       "![](https://tse1-mm.cn.bing.net/th/id/OET.2a67a683253746ae8f1062188c0d0c49?w=135&h=135&c=7&rs=1&o=5&pid=1.9)"
      ],
      "text/plain": [
       "<IPython.core.display.Markdown object>"
      ]
     },
     "metadata": {},
     "output_type": "display_data"
    },
    {
     "name": "stdout",
     "output_type": "stream",
     "text": [
      "https://tse1-mm.cn.bing.net/th/id/OET.0c734667886f4459af7239e907d705f7?w=135&h=135&c=7&rs=1&o=5&pid=1.9\n"
     ]
    },
    {
     "data": {
      "text/markdown": [
       "![](https://tse1-mm.cn.bing.net/th/id/OET.0c734667886f4459af7239e907d705f7?w=135&h=135&c=7&rs=1&o=5&pid=1.9)"
      ],
      "text/plain": [
       "<IPython.core.display.Markdown object>"
      ]
     },
     "metadata": {},
     "output_type": "display_data"
    },
    {
     "name": "stdout",
     "output_type": "stream",
     "text": [
      "/rs/5g/LL/ic/ytiieusXgM2K8bLkEDP-AS1ePds.png\n"
     ]
    },
    {
     "data": {
      "text/markdown": [
       "![](/rs/5g/LL/ic/ytiieusXgM2K8bLkEDP-AS1ePds.png)"
      ],
      "text/plain": [
       "<IPython.core.display.Markdown object>"
      ]
     },
     "metadata": {},
     "output_type": "display_data"
    }
   ],
   "source": [
    "from requests_html import HTMLSession\n",
    "\n",
    "session = HTMLSession()\n",
    "\n",
    "r = session.get(\"https://cn.bing.com/images/trending\")\n",
    "\n",
    "# 通过xpath找到图片标签\n",
    "items = r.html.xpath('//img/@src')\n",
    "\n",
    "for url in items:\n",
    "    print(url)  # 获得图片src url\n",
    "    display(Markdown('![]({url})'.format(url=url)))  # 展示图片    "
   ]
  },
  {
   "cell_type": "markdown",
   "metadata": {
    "slideshow": {
     "slide_type": "slide"
    }
   },
   "source": [
    "---\n",
    "<mark style=\"font-size:48px\">😍😲😙🤭😱</mark>\n",
    "\n",
    "# 总结\n",
    "\n",
    "## 总结你学到什麽新东西？\n",
    "* A\n",
    "* B\n",
    "* C\n",
    "\n",
    "\n",
    "## 总结你想会做什麽？\n",
    "* A\n",
    "* B\n",
    "* C\n"
   ]
  },
  {
   "cell_type": "markdown",
   "metadata": {
    "slideshow": {
     "slide_type": "fragment"
    }
   },
   "source": [
    "---\n",
    "<mark style=\"font-size:48px\">😍😲😙🤭😱</mark>\n",
    "\n",
    "结束\n"
   ]
  },
  {
   "cell_type": "code",
   "execution_count": null,
   "metadata": {},
   "outputs": [],
   "source": []
  }
 ],
 "metadata": {
  "kernelspec": {
   "display_name": "Python 3",
   "language": "python",
   "name": "python3"
  },
  "language_info": {
   "codemirror_mode": {
    "name": "ipython",
    "version": 3
   },
   "file_extension": ".py",
   "mimetype": "text/x-python",
   "name": "python",
   "nbconvert_exporter": "python",
   "pygments_lexer": "ipython3",
   "version": "3.7.5"
  }
 },
 "nbformat": 4,
 "nbformat_minor": 2
}
